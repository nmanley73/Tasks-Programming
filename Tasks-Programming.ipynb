{
 "cells": [
  {
   "cell_type": "markdown",
   "metadata": {},
   "source": [
    "# Assignment-Programming"
   ]
  },
  {
   "cell_type": "markdown",
   "metadata": {},
   "source": [
    "### 1) Explain the overall purpose of the Numpy package\n",
    "****"
   ]
  },
  {
   "cell_type": "markdown",
   "metadata": {},
   "source": [
    "Numpy is a library that provides a data structure for dealing with numerical data. The Numpy.random package is a module within the Numpy Library which contains a number of functions which are used for generating random numbers. It does this by using a Bit Generator such as PCG-64 (Permuted Congruential Generator 64) and the MIT (Mersenne Twister) algorithms to produce the random values [1]. Below i will display some functions within the module which i will use the describe what the package is all about."
   ]
  },
  {
   "cell_type": "markdown",
   "metadata": {},
   "source": [
    "#### Random.rand function\n",
    "<br>\n",
    "The numpy.random.rand() function creates an array of random numbers in a specified shape [2]. The shape of the array is determined by the inputs of the user. If there is one input the array is one-dimensional, if there is two it is a two-deimensional array. Three dimensional arrays can also be created with 3 inputs."
   ]
  },
  {
   "cell_type": "code",
   "execution_count": 1,
   "metadata": {},
   "outputs": [],
   "source": [
    "# call default_rng to initiate a new instance of the generator\n",
    "from numpy.random import default_rng"
   ]
  },
  {
   "cell_type": "markdown",
   "metadata": {},
   "source": [
    "In this example the random.rand function creates a 1d array of 5 random float numbers."
   ]
  },
  {
   "cell_type": "code",
   "execution_count": 2,
   "metadata": {},
   "outputs": [
    {
     "name": "stdout",
     "output_type": "stream",
     "text": [
      "\n",
      "\n",
      "1D array:\n",
      " [0.63554829 0.65262189 0.36559018 0.54197826 0.55772971]\n"
     ]
    }
   ],
   "source": [
    "# import the numpy and matplotlib libraries\n",
    "import numpy as np\n",
    "import matplotlib.pyplot as plt\n",
    "\n",
    "# use the random.rand function\n",
    "x = np.random.rand(5)\n",
    "# print out the array\n",
    "print(\"\\n\\n1D array:\\n\", x)"
   ]
  },
  {
   "cell_type": "markdown",
   "metadata": {},
   "source": [
    "In example 2 the random.rand function creates a 2D array."
   ]
  },
  {
   "cell_type": "code",
   "execution_count": 3,
   "metadata": {
    "scrolled": true
   },
   "outputs": [
    {
     "name": "stdout",
     "output_type": "stream",
     "text": [
      "\n",
      "\n",
      "2D array:\n",
      " [[0.45848975 0.42429728 0.75075984 0.77471079]\n",
      " [0.1475721  0.55094299 0.0644072  0.49025688]\n",
      " [0.5614752  0.69285664 0.28474214 0.02416726]]\n"
     ]
    }
   ],
   "source": [
    "# import the numpy and matplotlib libraries\n",
    "import numpy as np\n",
    "import matplotlib.pyplot as plt\n",
    "\n",
    "# use the random.rand function\n",
    "x = np.random.rand(3, 4)\n",
    "print(\"\\n\\n2D array:\\n\", x)"
   ]
  },
  {
   "cell_type": "markdown",
   "metadata": {},
   "source": [
    "#### Random.choice function"
   ]
  },
  {
   "cell_type": "markdown",
   "metadata": {},
   "source": [
    "For the random.choice function a sequence of values is required. The sequence can be a list, string range a tuple or any other sequence of values[3]. To demonstrate i have created a dataset with a list of the counties of Connacht. I ask the np.random.choice to make one thousand random selections from the list. Each time it goes into the list and picks one of the counties to create a numpy array of 1000 random selections from this counties list."
   ]
  },
  {
   "cell_type": "code",
   "execution_count": 4,
   "metadata": {},
   "outputs": [
    {
     "name": "stdout",
     "output_type": "stream",
     "text": [
      "\n",
      "Random list of Connacht counties:\n",
      " ['Leitrim' 'Mayo' 'Galway' 'Galway' 'Galway' 'Mayo' 'Sligo' 'Galway'\n",
      " 'Sligo' 'Mayo' 'Roscommon' 'Roscommon' 'Leitrim' 'Galway' 'Roscommon'\n",
      " 'Roscommon' 'Roscommon' 'Roscommon' 'Leitrim' 'Galway' 'Galway' 'Galway'\n",
      " 'Mayo' 'Leitrim' 'Roscommon' 'Sligo' 'Leitrim' 'Mayo' 'Sligo' 'Sligo'\n",
      " 'Sligo' 'Sligo' 'Leitrim' 'Mayo' 'Mayo' 'Leitrim' 'Roscommon' 'Sligo'\n",
      " 'Sligo' 'Roscommon' 'Leitrim' 'Roscommon' 'Sligo' 'Galway' 'Galway'\n",
      " 'Leitrim' 'Sligo' 'Leitrim' 'Roscommon' 'Galway' 'Leitrim' 'Leitrim'\n",
      " 'Mayo' 'Galway' 'Roscommon' 'Mayo' 'Sligo' 'Mayo' 'Galway' 'Galway'\n",
      " 'Roscommon' 'Roscommon' 'Mayo' 'Galway' 'Sligo' 'Sligo' 'Galway'\n",
      " 'Roscommon' 'Galway' 'Leitrim' 'Roscommon' 'Sligo' 'Leitrim' 'Leitrim'\n",
      " 'Leitrim' 'Sligo' 'Roscommon' 'Roscommon' 'Roscommon' 'Galway' 'Sligo'\n",
      " 'Roscommon' 'Galway' 'Galway' 'Galway' 'Roscommon' 'Mayo' 'Sligo' 'Sligo'\n",
      " 'Galway' 'Roscommon' 'Sligo' 'Sligo' 'Roscommon' 'Galway' 'Roscommon'\n",
      " 'Roscommon' 'Mayo' 'Sligo' 'Galway' 'Sligo' 'Roscommon' 'Roscommon'\n",
      " 'Galway' 'Leitrim' 'Sligo' 'Sligo' 'Roscommon' 'Galway' 'Mayo' 'Galway'\n",
      " 'Mayo' 'Leitrim' 'Sligo' 'Mayo' 'Roscommon' 'Leitrim' 'Sligo' 'Leitrim'\n",
      " 'Leitrim' 'Roscommon' 'Sligo' 'Sligo' 'Roscommon' 'Galway' 'Roscommon'\n",
      " 'Sligo' 'Roscommon' 'Roscommon' 'Leitrim' 'Roscommon' 'Leitrim'\n",
      " 'Roscommon' 'Galway' 'Galway' 'Roscommon' 'Roscommon' 'Roscommon'\n",
      " 'Leitrim' 'Sligo' 'Mayo' 'Mayo' 'Galway' 'Roscommon' 'Mayo' 'Sligo'\n",
      " 'Galway' 'Leitrim' 'Sligo' 'Roscommon' 'Mayo' 'Galway' 'Mayo' 'Galway'\n",
      " 'Sligo' 'Sligo' 'Galway' 'Galway' 'Galway' 'Sligo' 'Leitrim' 'Sligo'\n",
      " 'Roscommon' 'Leitrim' 'Leitrim' 'Mayo' 'Roscommon' 'Sligo' 'Leitrim'\n",
      " 'Roscommon' 'Mayo' 'Sligo' 'Mayo' 'Galway' 'Galway' 'Galway' 'Sligo'\n",
      " 'Galway' 'Galway' 'Galway' 'Galway' 'Leitrim' 'Roscommon' 'Sligo'\n",
      " 'Galway' 'Leitrim' 'Sligo' 'Sligo' 'Leitrim' 'Mayo' 'Leitrim' 'Sligo'\n",
      " 'Mayo' 'Roscommon' 'Sligo' 'Galway' 'Leitrim' 'Roscommon' 'Sligo'\n",
      " 'Galway' 'Roscommon' 'Leitrim' 'Leitrim' 'Sligo' 'Sligo' 'Leitrim'\n",
      " 'Leitrim' 'Sligo' 'Roscommon' 'Sligo' 'Sligo' 'Roscommon' 'Galway'\n",
      " 'Roscommon' 'Roscommon' 'Galway' 'Leitrim' 'Roscommon' 'Roscommon'\n",
      " 'Leitrim' 'Sligo' 'Mayo' 'Roscommon' 'Sligo' 'Leitrim' 'Leitrim' 'Sligo'\n",
      " 'Mayo' 'Leitrim' 'Roscommon' 'Sligo' 'Roscommon' 'Sligo' 'Leitrim'\n",
      " 'Roscommon' 'Mayo' 'Sligo' 'Leitrim' 'Leitrim' 'Roscommon' 'Galway'\n",
      " 'Roscommon' 'Leitrim' 'Sligo' 'Galway' 'Leitrim' 'Roscommon' 'Leitrim'\n",
      " 'Roscommon' 'Roscommon' 'Mayo' 'Roscommon' 'Roscommon' 'Sligo' 'Mayo'\n",
      " 'Mayo' 'Sligo' 'Roscommon' 'Sligo' 'Galway' 'Roscommon' 'Roscommon'\n",
      " 'Leitrim' 'Galway' 'Roscommon' 'Mayo' 'Sligo' 'Sligo' 'Mayo' 'Mayo'\n",
      " 'Roscommon' 'Sligo' 'Roscommon' 'Galway' 'Leitrim' 'Leitrim' 'Sligo'\n",
      " 'Leitrim' 'Galway' 'Leitrim' 'Galway' 'Roscommon' 'Roscommon' 'Mayo'\n",
      " 'Mayo' 'Sligo' 'Mayo' 'Sligo' 'Roscommon' 'Sligo' 'Roscommon' 'Sligo'\n",
      " 'Leitrim' 'Leitrim' 'Roscommon' 'Sligo' 'Roscommon' 'Galway' 'Galway'\n",
      " 'Leitrim' 'Leitrim' 'Roscommon' 'Roscommon' 'Mayo' 'Galway' 'Sligo'\n",
      " 'Mayo' 'Mayo' 'Sligo' 'Leitrim' 'Mayo' 'Leitrim' 'Galway' 'Galway'\n",
      " 'Leitrim' 'Mayo' 'Galway' 'Roscommon' 'Leitrim' 'Leitrim' 'Galway'\n",
      " 'Galway' 'Mayo' 'Galway' 'Sligo' 'Galway' 'Leitrim' 'Sligo' 'Sligo'\n",
      " 'Leitrim' 'Mayo' 'Sligo' 'Sligo' 'Mayo' 'Sligo' 'Leitrim' 'Sligo'\n",
      " 'Leitrim' 'Mayo' 'Roscommon' 'Sligo' 'Roscommon' 'Mayo' 'Sligo' 'Mayo'\n",
      " 'Mayo' 'Mayo' 'Leitrim' 'Galway' 'Sligo' 'Leitrim' 'Leitrim' 'Roscommon'\n",
      " 'Leitrim' 'Leitrim' 'Sligo' 'Roscommon' 'Leitrim' 'Roscommon' 'Galway'\n",
      " 'Galway' 'Leitrim' 'Galway' 'Leitrim' 'Roscommon' 'Roscommon' 'Sligo'\n",
      " 'Sligo' 'Sligo' 'Roscommon' 'Roscommon' 'Leitrim' 'Leitrim' 'Leitrim'\n",
      " 'Leitrim' 'Galway' 'Sligo' 'Leitrim' 'Roscommon' 'Mayo' 'Sligo' 'Mayo'\n",
      " 'Roscommon' 'Sligo' 'Sligo' 'Sligo' 'Leitrim' 'Galway' 'Sligo' 'Sligo'\n",
      " 'Leitrim' 'Sligo' 'Roscommon' 'Roscommon' 'Sligo' 'Roscommon' 'Leitrim'\n",
      " 'Mayo' 'Galway' 'Leitrim' 'Sligo' 'Leitrim' 'Leitrim' 'Leitrim' 'Mayo'\n",
      " 'Leitrim' 'Sligo' 'Galway' 'Leitrim' 'Roscommon' 'Galway' 'Leitrim'\n",
      " 'Mayo' 'Sligo' 'Galway' 'Sligo' 'Roscommon' 'Galway' 'Galway' 'Roscommon'\n",
      " 'Leitrim' 'Sligo' 'Mayo' 'Sligo' 'Sligo' 'Mayo' 'Roscommon' 'Leitrim'\n",
      " 'Galway' 'Galway' 'Leitrim' 'Mayo' 'Roscommon' 'Roscommon' 'Mayo' 'Sligo'\n",
      " 'Galway' 'Mayo' 'Roscommon' 'Leitrim' 'Sligo' 'Roscommon' 'Sligo'\n",
      " 'Galway' 'Galway' 'Leitrim' 'Mayo' 'Roscommon' 'Galway' 'Galway' 'Mayo'\n",
      " 'Mayo' 'Roscommon' 'Sligo' 'Galway' 'Roscommon' 'Leitrim' 'Roscommon'\n",
      " 'Sligo' 'Galway' 'Roscommon' 'Mayo' 'Roscommon' 'Sligo' 'Sligo' 'Mayo'\n",
      " 'Galway' 'Galway' 'Roscommon' 'Mayo' 'Mayo' 'Leitrim' 'Galway' 'Galway'\n",
      " 'Roscommon' 'Mayo' 'Sligo' 'Leitrim' 'Galway' 'Roscommon' 'Leitrim'\n",
      " 'Sligo' 'Mayo' 'Roscommon' 'Galway' 'Mayo' 'Sligo' 'Mayo' 'Leitrim'\n",
      " 'Leitrim' 'Roscommon' 'Sligo' 'Galway' 'Sligo' 'Sligo' 'Sligo'\n",
      " 'Roscommon' 'Roscommon' 'Roscommon' 'Roscommon' 'Roscommon' 'Leitrim'\n",
      " 'Roscommon' 'Roscommon' 'Mayo' 'Roscommon' 'Mayo' 'Sligo' 'Sligo' 'Sligo'\n",
      " 'Roscommon' 'Galway' 'Leitrim' 'Mayo' 'Mayo' 'Leitrim' 'Leitrim' 'Mayo'\n",
      " 'Roscommon' 'Roscommon' 'Leitrim' 'Mayo' 'Mayo' 'Galway' 'Roscommon'\n",
      " 'Sligo' 'Galway' 'Galway' 'Mayo' 'Roscommon' 'Mayo' 'Sligo' 'Roscommon'\n",
      " 'Mayo' 'Sligo' 'Leitrim' 'Leitrim' 'Galway' 'Galway' 'Mayo' 'Sligo'\n",
      " 'Roscommon' 'Roscommon' 'Galway' 'Leitrim' 'Galway' 'Roscommon' 'Leitrim'\n",
      " 'Roscommon' 'Leitrim' 'Sligo' 'Mayo' 'Mayo' 'Roscommon' 'Roscommon'\n",
      " 'Sligo' 'Sligo' 'Sligo' 'Roscommon' 'Mayo' 'Galway' 'Roscommon'\n",
      " 'Roscommon' 'Galway' 'Galway' 'Sligo' 'Sligo' 'Galway' 'Galway' 'Sligo'\n",
      " 'Galway' 'Sligo' 'Mayo' 'Sligo' 'Galway' 'Leitrim' 'Roscommon' 'Sligo'\n",
      " 'Roscommon' 'Mayo' 'Galway' 'Galway' 'Galway' 'Mayo' 'Leitrim' 'Galway'\n",
      " 'Leitrim' 'Leitrim' 'Mayo' 'Galway' 'Leitrim' 'Sligo' 'Sligo' 'Sligo'\n",
      " 'Mayo' 'Roscommon' 'Galway' 'Galway' 'Mayo' 'Sligo' 'Galway' 'Leitrim'\n",
      " 'Galway' 'Roscommon' 'Galway' 'Galway' 'Galway' 'Leitrim' 'Roscommon'\n",
      " 'Leitrim' 'Mayo' 'Leitrim' 'Roscommon' 'Roscommon' 'Mayo' 'Roscommon'\n",
      " 'Galway' 'Sligo' 'Roscommon' 'Sligo' 'Roscommon' 'Sligo' 'Roscommon'\n",
      " 'Galway' 'Mayo' 'Galway' 'Leitrim' 'Roscommon' 'Roscommon' 'Roscommon'\n",
      " 'Roscommon' 'Sligo' 'Leitrim' 'Galway' 'Mayo' 'Mayo' 'Leitrim' 'Mayo'\n",
      " 'Leitrim' 'Leitrim' 'Leitrim' 'Leitrim' 'Sligo' 'Mayo' 'Roscommon'\n",
      " 'Sligo' 'Roscommon' 'Roscommon' 'Leitrim' 'Leitrim' 'Mayo' 'Galway'\n",
      " 'Sligo' 'Sligo' 'Galway' 'Sligo' 'Sligo' 'Sligo' 'Sligo' 'Roscommon'\n",
      " 'Sligo' 'Leitrim' 'Roscommon' 'Leitrim' 'Leitrim' 'Leitrim' 'Leitrim'\n",
      " 'Leitrim' 'Sligo' 'Leitrim' 'Mayo' 'Galway' 'Sligo' 'Sligo' 'Sligo'\n",
      " 'Leitrim' 'Sligo' 'Roscommon' 'Galway' 'Sligo' 'Sligo' 'Mayo' 'Galway'\n",
      " 'Mayo' 'Roscommon' 'Mayo' 'Galway' 'Mayo' 'Galway' 'Roscommon' 'Sligo'\n",
      " 'Sligo' 'Mayo' 'Mayo' 'Leitrim' 'Leitrim' 'Mayo' 'Mayo' 'Sligo' 'Leitrim'\n",
      " 'Leitrim' 'Leitrim' 'Roscommon' 'Mayo' 'Roscommon' 'Leitrim' 'Mayo'\n",
      " 'Sligo' 'Galway' 'Sligo' 'Leitrim' 'Galway' 'Galway' 'Galway' 'Mayo'\n",
      " 'Sligo' 'Leitrim' 'Galway' 'Roscommon' 'Galway' 'Roscommon' 'Galway'\n",
      " 'Roscommon' 'Roscommon' 'Galway' 'Galway' 'Leitrim' 'Roscommon' 'Galway'\n",
      " 'Mayo' 'Galway' 'Sligo' 'Leitrim' 'Leitrim' 'Roscommon' 'Mayo'\n",
      " 'Roscommon' 'Sligo' 'Sligo' 'Sligo' 'Sligo' 'Mayo' 'Sligo' 'Galway'\n",
      " 'Mayo' 'Leitrim' 'Galway' 'Sligo' 'Roscommon' 'Galway' 'Roscommon' 'Mayo'\n",
      " 'Mayo' 'Roscommon' 'Mayo' 'Leitrim' 'Roscommon' 'Galway' 'Roscommon'\n",
      " 'Leitrim' 'Galway' 'Leitrim' 'Mayo' 'Roscommon' 'Leitrim' 'Sligo' 'Mayo'\n",
      " 'Leitrim' 'Leitrim' 'Leitrim' 'Leitrim' 'Sligo' 'Leitrim' 'Leitrim'\n",
      " 'Sligo' 'Mayo' 'Galway' 'Mayo' 'Mayo' 'Leitrim' 'Roscommon' 'Leitrim'\n",
      " 'Galway' 'Mayo' 'Sligo' 'Mayo' 'Leitrim' 'Sligo' 'Sligo' 'Galway'\n",
      " 'Leitrim' 'Sligo' 'Mayo' 'Leitrim' 'Galway' 'Roscommon' 'Roscommon'\n",
      " 'Mayo' 'Galway' 'Leitrim' 'Leitrim' 'Mayo' 'Leitrim' 'Sligo' 'Galway'\n",
      " 'Roscommon' 'Mayo' 'Galway' 'Roscommon' 'Galway' 'Sligo' 'Galway' 'Mayo'\n",
      " 'Galway' 'Galway' 'Mayo' 'Sligo' 'Leitrim' 'Roscommon' 'Galway' 'Mayo'\n",
      " 'Galway' 'Mayo' 'Mayo' 'Galway' 'Galway' 'Mayo' 'Galway' 'Sligo' 'Galway'\n",
      " 'Roscommon' 'Mayo' 'Leitrim' 'Leitrim' 'Leitrim' 'Mayo' 'Mayo' 'Galway'\n",
      " 'Galway' 'Galway' 'Sligo' 'Roscommon' 'Leitrim' 'Mayo' 'Roscommon'\n",
      " 'Sligo' 'Roscommon' 'Roscommon' 'Sligo' 'Roscommon' 'Galway' 'Roscommon'\n",
      " 'Sligo' 'Roscommon' 'Roscommon' 'Mayo' 'Roscommon' 'Leitrim' 'Mayo'\n",
      " 'Leitrim' 'Sligo' 'Mayo' 'Leitrim' 'Sligo' 'Galway' 'Leitrim' 'Roscommon'\n",
      " 'Galway' 'Galway' 'Roscommon' 'Sligo' 'Leitrim' 'Galway' 'Mayo' 'Mayo'\n",
      " 'Mayo' 'Galway' 'Leitrim' 'Sligo' 'Leitrim' 'Sligo' 'Galway' 'Sligo'\n",
      " 'Roscommon' 'Leitrim' 'Leitrim' 'Galway' 'Sligo' 'Mayo' 'Leitrim' 'Mayo'\n",
      " 'Mayo' 'Roscommon' 'Sligo' 'Galway' 'Galway' 'Galway' 'Mayo' 'Roscommon'\n",
      " 'Mayo' 'Leitrim' 'Galway' 'Roscommon' 'Roscommon' 'Leitrim' 'Mayo'\n",
      " 'Roscommon' 'Sligo' 'Leitrim' 'Leitrim' 'Leitrim' 'Mayo' 'Galway'\n",
      " 'Galway' 'Leitrim' 'Roscommon' 'Mayo' 'Mayo' 'Sligo' 'Roscommon' 'Galway'\n",
      " 'Galway' 'Mayo' 'Leitrim' 'Galway' 'Sligo' 'Roscommon' 'Leitrim'\n",
      " 'Roscommon' 'Mayo' 'Galway' 'Leitrim' 'Sligo' 'Leitrim' 'Sligo' 'Leitrim'\n",
      " 'Galway' 'Galway' 'Mayo' 'Roscommon' 'Sligo' 'Leitrim' 'Sligo'\n",
      " 'Roscommon' 'Sligo' 'Leitrim' 'Mayo' 'Roscommon' 'Sligo' 'Sligo' 'Sligo'\n",
      " 'Roscommon' 'Sligo' 'Roscommon' 'Roscommon' 'Roscommon' 'Leitrim' 'Sligo'\n",
      " 'Leitrim' 'Roscommon' 'Leitrim' 'Mayo' 'Sligo' 'Sligo' 'Leitrim'\n",
      " 'Roscommon' 'Roscommon' 'Roscommon' 'Sligo' 'Mayo' 'Mayo' 'Leitrim'\n",
      " 'Leitrim' 'Mayo' 'Sligo' 'Galway' 'Roscommon' 'Leitrim' 'Leitrim'\n",
      " 'Roscommon' 'Sligo' 'Mayo' 'Galway' 'Roscommon' 'Roscommon' 'Galway'\n",
      " 'Galway' 'Roscommon' 'Roscommon' 'Galway' 'Leitrim' 'Galway' 'Galway'\n",
      " 'Sligo' 'Sligo' 'Mayo' 'Roscommon' 'Sligo' 'Leitrim' 'Mayo']\n"
     ]
    }
   ],
   "source": [
    "# import numpy library\n",
    "import numpy as np\n",
    "# create the dataset\n",
    "counties = [\"Galway\", \"Leitrim\", \"Mayo\", \"Roscommon\", \"Sligo\"]\n",
    "\n",
    "# randomly pick 1000 random selections\n",
    "cty = np.random.choice(counties, 1000)\n",
    "# print resulting array\n",
    "print(\"\\nRandom list of Connacht counties:\\n\",cty)"
   ]
  },
  {
   "cell_type": "markdown",
   "metadata": {},
   "source": [
    "I import the Seaborn library to create a countplot of the random values in the array. If the array of values are random you would expect to see the number of counties appear a fifth of the time. However there is some random variation, If the function is re-run you can see the results changes in the array and the plot to display the randomness of the numpy.random.choice function.  "
   ]
  },
  {
   "cell_type": "code",
   "execution_count": 5,
   "metadata": {},
   "outputs": [
    {
     "data": {
      "text/plain": [
       "<AxesSubplot:ylabel='count'>"
      ]
     },
     "execution_count": 5,
     "metadata": {},
     "output_type": "execute_result"
    },
    {
     "data": {
      "image/png": "[encoded data removed]",
      "text/plain": [
       "<Figure size 432x288 with 1 Axes>"
      ]
     },
     "metadata": {
      "needs_background": "light"
     },
     "output_type": "display_data"
    }
   ],
   "source": [
    "# import the Seaborn library\n",
    "import seaborn as sns\n",
    "# create a countplot of the array of random values\n",
    "sns.countplot(x=cty)"
   ]
  },
  {
   "cell_type": "markdown",
   "metadata": {},
   "source": [
    "<br>\n",
    "\n",
    "### 2) Explain the use of the “Simple random data” and “Permutations” functions.\n",
    "***"
   ]
  },
  {
   "cell_type": "markdown",
   "metadata": {},
   "source": [
    "#### Simple random data"
   ]
  },
  {
   "cell_type": "markdown",
   "metadata": {},
   "source": [
    "Simple random data is defined as a technique in which every item in the population has an equal chance of being selected in the sample. Each item is chosen randomly and entirely by chance. We saw this previously in one of the simple random data functions random.choice where an array of random values is generated from a list. There were 5 items within the list and the random.choice function created an array of a thousand items of random selections. Each item was selected randomly on all one thousand selections. The following examples of functions random.integers and random.bytes also display the concept of random sampling where each object has the same probability of being chosen. "
   ]
  },
  {
   "cell_type": "markdown",
   "metadata": {},
   "source": [
    "#### Random.integers function"
   ]
  },
  {
   "cell_type": "markdown",
   "metadata": {},
   "source": [
    "Random.integers functions produce whole numbers (without the decimal component). There are anumber of additional parameters that are used in the random.integers function. \n",
    "Random.integers(low, high, size, dtype, endpoint) Low is the lowest integer from the distribution, high is the highest and size is the sample size. In the following example produces a list of 500 random number ranging from 10 to 200."
   ]
  },
  {
   "cell_type": "code",
   "execution_count": 6,
   "metadata": {},
   "outputs": [],
   "source": [
    "# import the numpy and matplotlib libraries\n",
    "import numpy as np\n",
    "import matplotlib.pyplot as plt\n",
    "# setup new instance of generator\n",
    "rng = np.random.default_rng()"
   ]
  },
  {
   "cell_type": "code",
   "execution_count": 7,
   "metadata": {},
   "outputs": [
    {
     "data": {
      "text/plain": [
       "(array([47., 51., 44., 54., 54., 48., 59., 48., 48., 47.]),\n",
       " array([ 10. ,  28.9,  47.8,  66.7,  85.6, 104.5, 123.4, 142.3, 161.2,\n",
       "        180.1, 199. ]),\n",
       " <BarContainer object of 10 artists>)"
      ]
     },
     "execution_count": 7,
     "metadata": {},
     "output_type": "execute_result"
    },
    {
     "data": {
      "image/png": "[encoded data removed]",
      "text/plain": [
       "<Figure size 432x288 with 1 Axes>"
      ]
     },
     "metadata": {
      "needs_background": "light"
     },
     "output_type": "display_data"
    }
   ],
   "source": [
    "# use the integers function\n",
    "x = rng.integers(10, 200, size = 500)\n",
    "# plot histogram of data\n",
    "plt.hist(x)"
   ]
  },
  {
   "cell_type": "markdown",
   "metadata": {},
   "source": [
    "#### Random function"
   ]
  },
  {
   "cell_type": "markdown",
   "metadata": {},
   "source": [
    "Random function returns an array of floating point numbers. The number of which is defined by the input into the size parameter. The example below produces an out put of 4 floating point numbers defined by the input 4 into the function.  Each time the function is ran produces a different result displying the randomness of the function."
   ]
  },
  {
   "cell_type": "code",
   "execution_count": 8,
   "metadata": {},
   "outputs": [
    {
     "data": {
      "text/plain": [
       "array([0.14681689, 0.17278545, 0.08869537, 0.5429943 ])"
      ]
     },
     "execution_count": 8,
     "metadata": {},
     "output_type": "execute_result"
    }
   ],
   "source": [
    "# setup new instance of generator\n",
    "rng = np.random.default_rng()\n",
    "\n",
    "# select 4 random float numbers\n",
    "y = rng.random(4)\n",
    "y"
   ]
  },
  {
   "cell_type": "markdown",
   "metadata": {},
   "source": [
    "#### Permutations"
   ]
  },
  {
   "cell_type": "markdown",
   "metadata": {},
   "source": [
    "Uses of the Random.permutations function include coding theory, cryptography and simulation. An example would be shuffling a deck of cards which is a permutation of 52 cards.\n",
    "The function itself returns a re-arranged array of elements if a list of elements [4] is provided as an input or returns a permuted range. In the example below the permutations function re-arranges the contents of a list of 8 numbers which are provided as input."
   ]
  },
  {
   "cell_type": "code",
   "execution_count": 9,
   "metadata": {},
   "outputs": [
    {
     "data": {
      "text/plain": [
       "array([ 6,  3, 17,  5,  9,  8, 10, 23])"
      ]
     },
     "execution_count": 9,
     "metadata": {},
     "output_type": "execute_result"
    }
   ],
   "source": [
    "# import numpy library\n",
    "import numpy as np\n",
    "\n",
    "# setup new instance of generator\n",
    "rng = np.random.default_rng()\n",
    "# using random.permutation to alter a list of values\n",
    "rng.permutation([3, 9, 6, 8, 10, 23, 5, 17])"
   ]
  },
  {
   "cell_type": "markdown",
   "metadata": {},
   "source": [
    "#### Shuffle function"
   ]
  },
  {
   "cell_type": "markdown",
   "metadata": {},
   "source": [
    "The shuffle function works much the same as the permutation function. The key difference is permutation method returns a re-arranged array and leaves the original array unchanged. Whereas the shuffle method makes changes to the original array and returns a shuffled array and you are left with the original array only."
   ]
  },
  {
   "cell_type": "code",
   "execution_count": 10,
   "metadata": {},
   "outputs": [
    {
     "data": {
      "text/plain": [
       "array([6, 0, 2, 3, 9, 4, 1, 5, 7, 8])"
      ]
     },
     "execution_count": 10,
     "metadata": {},
     "output_type": "execute_result"
    }
   ],
   "source": [
    "# import numpy library\n",
    "import numpy as np\n",
    "# setup new instance of generator\n",
    "from numpy.random import default_rng\n",
    "rng = np.random.default_rng()\n",
    "\n",
    "# setup an array of 10 elements\n",
    "x = np.arange(10)\n",
    "# shuffle the list\n",
    "rng.shuffle(x)\n",
    "x"
   ]
  },
  {
   "cell_type": "markdown",
   "metadata": {},
   "source": [
    "<br>\n",
    "\n",
    "### 3. Explain the use and purpose of at least five \"Distributions\" functions.\n",
    "***"
   ]
  },
  {
   "cell_type": "markdown",
   "metadata": {},
   "source": [
    "#### Normal Distribution"
   ]
  },
  {
   "cell_type": "markdown",
   "metadata": {},
   "source": [
    "The use of this function to get the normal data distribution. In every day life the normal distribution has many uses as many variables are normally distributed. Height, birth weight, Exam scores, job performance are some examples of where normal distribution can be used [5]. \n",
    "It has 3 input parameters Random.normal(loc, scale, size), loc - is the mean of the distribution, scale - is the standard deviation or spread of the distribution and size - is the number of elements in the distribution and defines the shape. The shape is bell shaped with most of the values clustered around the central region and tapering off either side."
   ]
  },
  {
   "cell_type": "code",
   "execution_count": 11,
   "metadata": {},
   "outputs": [
    {
     "name": "stderr",
     "output_type": "stream",
     "text": [
      "C:\\Users\\Noel\\anaconda3\\lib\\site-packages\\seaborn\\distributions.py:2551: FutureWarning: `distplot` is a deprecated function and will be removed in a future version. Please adapt your code to use either `displot` (a figure-level function with similar flexibility) or `kdeplot` (an axes-level function for kernel density plots).\n",
      "  warnings.warn(msg, FutureWarning)\n"
     ]
    },
    {
     "data": {
      "image/png": "[encoded data removed]",
      "text/plain": [
       "<Figure size 432x288 with 1 Axes>"
      ]
     },
     "metadata": {
      "needs_background": "light"
     },
     "output_type": "display_data"
    }
   ],
   "source": [
    "# import libraries\n",
    "import numpy as np\n",
    "import seaborn as sns\n",
    "import matplotlib.pyplot as plt\n",
    "from numpy import random\n",
    "\n",
    "# Create a Seaborn distplot of normal distribution\n",
    "sns.distplot(random.normal(loc=2, scale=2, size=10), hist=False)\n",
    "# show the plot\n",
    "plt.show()"
   ]
  },
  {
   "cell_type": "markdown",
   "metadata": {},
   "source": [
    "#### Uniform Distribution"
   ]
  },
  {
   "cell_type": "markdown",
   "metadata": {},
   "source": [
    "This distribution is used to describe probabilty where every event has an equal chance of happening. Uniform distribution form the basis of statistical analysis and probablity theory[6]. A deck of cards has an uniform distribution as an individual has an equal chance of selecting any of the four suits similarily a coin toss has a uniform distribution as you have an equal chance of getting heads or tails. \n",
    "The uniform distribution formula has three parameters (numpy.random.uniform(low, high, size)) low - lower bound, high - higher bound and size - number of elements which defines the shape."
   ]
  },
  {
   "cell_type": "code",
   "execution_count": 12,
   "metadata": {},
   "outputs": [
    {
     "name": "stdout",
     "output_type": "stream",
     "text": [
      "[[1.06680507 2.08746706 3.41499865]\n",
      " [3.34794139 3.72918986 3.09864995]]\n"
     ]
    }
   ],
   "source": [
    "# Import numpy.random module\n",
    "from numpy import random\n",
    "# Run random.uniform using the 3 paramters\n",
    "x = random.uniform(1, 4, size=(2, 3))\n",
    "\n",
    "print(x)"
   ]
  },
  {
   "cell_type": "markdown",
   "metadata": {},
   "source": [
    "#### Logistic Distribution"
   ]
  },
  {
   "cell_type": "markdown",
   "metadata": {},
   "source": [
    "The Logistic distribution is a continuous probability distribution used to describe growth. It is used extensively in machine learning in logical regression (for modelling categorical dependent variables, neural networks, hydrology for the long duration of river discharge and rainfall, chess ratings and Physics [7]. \n",
    "Logical distribution is similar to the Normal distribution. The main difference is there is more possibility of occurence of an event away from the mean [8]. The example below displays this difference. The orange line of the distplot is the logistic distribution (label not working for some reason). It is a flatter distribution with more values either side of the mean.                                                           \n",
    "x = np.random.logistic(loc, scale, size)"
   ]
  },
  {
   "cell_type": "code",
   "execution_count": 13,
   "metadata": {},
   "outputs": [
    {
     "name": "stderr",
     "output_type": "stream",
     "text": [
      "C:\\Users\\Noel\\anaconda3\\lib\\site-packages\\seaborn\\distributions.py:2551: FutureWarning: `distplot` is a deprecated function and will be removed in a future version. Please adapt your code to use either `displot` (a figure-level function with similar flexibility) or `kdeplot` (an axes-level function for kernel density plots).\n",
      "  warnings.warn(msg, FutureWarning)\n",
      "C:\\Users\\Noel\\anaconda3\\lib\\site-packages\\seaborn\\distributions.py:2551: FutureWarning: `distplot` is a deprecated function and will be removed in a future version. Please adapt your code to use either `displot` (a figure-level function with similar flexibility) or `kdeplot` (an axes-level function for kernel density plots).\n",
      "  warnings.warn(msg, FutureWarning)\n"
     ]
    },
    {
     "data": {
      "image/png": "[encoded data removed]",
      "text/plain": [
       "<Figure size 432x288 with 1 Axes>"
      ]
     },
     "metadata": {
      "needs_background": "light"
     },
     "output_type": "display_data"
    }
   ],
   "source": [
    "# import libraries\n",
    "import numpy as np\n",
    "import seaborn as sns\n",
    "import matplotlib.pyplot as plt\n",
    "from numpy.random import default_rng\n",
    "\n",
    "# run normal and logistic functions to compare plots generated for both\n",
    "sns.distplot(random.normal(loc=1, scale=2, size=1000), hist=False, label='normal')\n",
    "sns.distplot(random.logistic(loc=1, scale=2, size=1000), hist=False, label='logistic')\n",
    "plt.show()"
   ]
  },
  {
   "cell_type": "markdown",
   "metadata": {},
   "source": [
    "#### Exponential function"
   ]
  },
  {
   "cell_type": "markdown",
   "metadata": {},
   "source": [
    "Exponential function is used to model waiting time before a given event occurs. Its is also used for products with constant failure or arrival rates [9] Generally, if the probability of an event occurs during a certain time interval is proportional to the length of that time interval, then the time elapsed follows an exponential distribution. It is a valuable tool to predict the  mean time between failures and plays a significant role in Predictive Maintenance, Reliability Engineering, and Overall Equipment Effectiveness (OEE). This statistical information is extremely useful to assist decision makers in decision making. Uses of exponential function include mean arrival time of planes, length of time a battery will last, predicting how long a machine runs until an unscheduled downtime and time between phone calls at a call center.  \n",
    "Exponential function has the following syntax np.exp(scale, size)."
   ]
  },
  {
   "cell_type": "code",
   "execution_count": 14,
   "metadata": {},
   "outputs": [
    {
     "data": {
      "image/png": "[encoded data removed]",
      "text/plain": [
       "<Figure size 432x288 with 1 Axes>"
      ]
     },
     "metadata": {
      "needs_background": "light"
     },
     "output_type": "display_data"
    }
   ],
   "source": [
    "# import libraries\n",
    "import numpy as np\n",
    "import matplotlib.pyplot as plt\n",
    "\n",
    "# Run exponential function using parameters as input\n",
    "x = np.random.exponential(101.123, 10000) \n",
    "count, bins, ignored = plt.hist(x, 14, density = True) \n",
    "\n",
    "plt.show()"
   ]
  },
  {
   "cell_type": "markdown",
   "metadata": {},
   "source": [
    "#### Geometric Distribution"
   ]
  },
  {
   "cell_type": "markdown",
   "metadata": {},
   "source": [
    "The Geometric distribution is useful for determining the likelihood of sucess given a number of trials. A number of real world scenarios are modelled on the geometric distribution. Examples of their use in a sporting context can be seen in baseball where geometric distribution is used to determine the probability a batsman can get a hit before he receives three strikes. In the business world a company decides whether to fund research trials. The aim of this cost benefit analysis is to succeed before the cost outweighs the potential gain [11].\n",
    "The formula for geomtric distribution is random.geometric(p, size)"
   ]
  },
  {
   "cell_type": "code",
   "execution_count": 15,
   "metadata": {},
   "outputs": [
    {
     "data": {
      "text/plain": [
       "array([5, 3, 1, ..., 1, 9, 1])"
      ]
     },
     "execution_count": 15,
     "metadata": {},
     "output_type": "execute_result"
    }
   ],
   "source": [
    "# import libraries\n",
    "import numpy as np\n",
    "import matplotlib.pyplot as plt\n",
    "\n",
    "x = np.random.geometric(p=0.35, size=10000)\n",
    "x"
   ]
  },
  {
   "cell_type": "markdown",
   "metadata": {},
   "source": [
    "<br>\n",
    "\n",
    "### 4. Explain the use of seeds in generating pseudorandom numbers.\n",
    "***"
   ]
  },
  {
   "cell_type": "markdown",
   "metadata": {},
   "source": [
    "Seed is a function that sets the random seed of a pseudorandom number generator. It provides the input that initializes a pseudorandom generator for random processes [12]. When using a seed to generate a pseudo randomnumber the computer generated number appears random but it is in fact pre-deteremined if the seed remains constant. If the function is given the same input it will produce the same result and generate the same output.\n",
    "The example below runs the random.seed function in conjunction with the random.sample function for random sampling in numpy. If the function is run with the random.seed code commented out it generates an array with a different set of results (10 random float numbers). However when the random.seed code is included in the code with the same seed value it yields the same array of numbers every time the code is run. So using the random.seed function if the same code is run it produces the same result. The numbers produced are not random they are pseudorandom in that they are determinded by the input and the pseudo random algorithm. The number that is used inside the seed function is not important - it doies not make a difference. \n",
    "Furthermore if the seed number is changed a different output is produced. The output retrieved depends upon the input thats provided in the seed."
   ]
  },
  {
   "cell_type": "code",
   "execution_count": 17,
   "metadata": {},
   "outputs": [
    {
     "data": {
      "text/plain": [
       "array([0.4359949 , 0.02592623, 0.54966248, 0.43532239, 0.4203678 ,\n",
       "       0.33033482, 0.20464863, 0.61927097, 0.29965467, 0.26682728])"
      ]
     },
     "execution_count": 17,
     "metadata": {},
     "output_type": "execute_result"
    }
   ],
   "source": [
    "# Import numpy library\n",
    "import numpy as np\n",
    "\n",
    "# numpy.seed function. Specify the value 2 as the seed\n",
    "np.random.seed(2)\n",
    "# use random.sample in conjunction with seed to test output\n",
    "np.random.sample(10)"
   ]
  },
  {
   "cell_type": "markdown",
   "metadata": {},
   "source": [
    "In the example above the seed was input by the user. However if the seed is not specified numpy will generate a random.seed value from the computer system such as the computer time. However using this method the code will not have a repeatable output as the seed value will change every time the code is run which could prove disadvantageous. By using a seed in python code produces repeatable output which is beneficial for testing and code sharing. \n",
    "There are 4 functions in the random generator randomstate(seed), seed(seed), getstate() and set_state()."
   ]
  },
  {
   "cell_type": "markdown",
   "metadata": {},
   "source": [
    "#### Mersenne Twister vs PCG64"
   ]
  },
  {
   "cell_type": "markdown",
   "metadata": {},
   "source": [
    "In recent versions of Numpy documentation the Permuted Congruential generator (PCG64) algorithm has replaced the Mersenne Twister algorithm as the pseudorandom number generator of choice in Numpy. PCG64 version is favoured over its predecessor on a number of different criteria.\n",
    "* Mersenne Twister random generator fails some empirical statistical tests with fewer that 45,000 numbers whereas the PCG family performs very well in statistical tests and offers better statistical performance.\n",
    "* Output can be predicted after 624 outputs of the Mersenne Twister generator. Random generated numbers should not be difficult to predict. PCG algorithm is much less predictable than the Mersenne Twister and therefore it is favoured in this crucial aspect of random number generating.\n",
    "* Mersenne Twister state has a relatively large memory footprint wheras PCG has a small memory footprint and runs faster.\n",
    "* Jump-ahead is possible but it is slow to compute in MIT. PCG offers jump-ahead and distance between states.\n",
    "* MT can be uneven in its output on occasion that can take sometime to recover from.\n",
    "\n",
    "Overall the newer PCG64 pseudorandom generator is the better version of random generator than the Mersenne Twister in overall performance in terms of speed and memory consumption. It is also the the favoured version in terms of its unpredictability and statistical tests."
   ]
  },
  {
   "cell_type": "markdown",
   "metadata": {},
   "source": [
    "### References \n",
    "\n",
    "[1] Numpy: Bit Generators; https://numpy.org/doc/stable/reference/random/bit_generators/index.html\n",
    "\n",
    "[2] Geeks for Geeks: numpy.random.rand() in Python, https://www.geeksforgeeks.org/numpy-random-rand-python/\n",
    "\n",
    "[3] w3schools.com: Python Random choice() method, https://www.w3schools.com/python/ref_random_choice.asp\n",
    "\n",
    "[4] WTMatter: NumPy Random Permutation (Python Tutorial), https://wtmatter.com/numpy-random-permutation/\n",
    "\n",
    "[5] Scribbr: Understanding normal distributions; https://www.scribbr.com/statistics/normal-distribution/\n",
    "\n",
    "[6] CFI: Uniform Distribution; https://corporatefinanceinstitute.com/resources/knowledge/other/uniform-distribution/\n",
    "\n",
    "[7] Wikipedia: Logistic distribution; https://en.wikipedia.org/wiki/Logistic_distribution\n",
    "\n",
    "[8] w3schools.com: Logistic Distribution; https://www.w3schools.com/python/numpy_random_logistic.asp\n",
    "\n",
    "[9] Six Sigma material: Exponential Distribution; https://www.six-sigma-material.com/Exponential-Distribution.html#:~:text=The%20Exponential%20Distribution%20is%20commonly%20used%20to%20model,with%20an%20exponential%20distribution.The%20data%20type%20is%20continuous.\n",
    "\n",
    "[10] Sharp Sight: How to use Numpy exponential; https://www.sharpsightlabs.com/blog/numpy-exponential/\n",
    "\n",
    "[11] Brilliant: Geometric Distribution; https://brilliant.org/wiki/geometric-distribution/\n",
    "\n",
    "[12] Sharp Sight: Numpy random seed explained; https://www.sharpsightlabs.com/blog/numpy-random-seed/\n",
    "\n",
    "[13] PCG-Random: Specific Problems with Other RNGs; https://www.pcg-random.org/other-rngs.html"
   ]
  },
  {
   "cell_type": "markdown",
   "metadata": {},
   "source": [
    "End\n",
    "***"
   ]
  }
 ],
 "metadata": {
  "kernelspec": {
   "display_name": "Python 3",
   "language": "python",
   "name": "python3"
  },
  "language_info": {
   "codemirror_mode": {
    "name": "ipython",
    "version": 3
   },
   "file_extension": ".py",
   "mimetype": "text/x-python",
   "name": "python",
   "nbconvert_exporter": "python",
   "pygments_lexer": "ipython3",
   "version": "3.8.5"
  }
 },
 "nbformat": 4,
 "nbformat_minor": 4
}
