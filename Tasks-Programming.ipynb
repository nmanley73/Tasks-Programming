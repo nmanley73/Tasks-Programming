{
 "cells": [
  {
   "cell_type": "markdown",
   "metadata": {},
   "source": [
    "# Assignment-Programming"
   ]
  },
  {
   "cell_type": "markdown",
   "metadata": {},
   "source": [
    "### Explain the overall purpose of the Numpy package\n",
    "****"
   ]
  },
  {
   "cell_type": "markdown",
   "metadata": {},
   "source": [
    "Numpy is a library that provides a data structure for dealing with numerical data. The Numpy.random package is a module within the Numpy Library which contains a number of functions which are used for generating random numbers. It does this by using a Bit Generator such as PCG-64 (Permuted Congruential Generator 64) and the MIT (Mersenne Twister) algorithms to produce the random values [1]. Below i will display some functions within the module which i will use the describe what the package is all about."
   ]
  },
  {
   "cell_type": "markdown",
   "metadata": {},
   "source": [
    "#### Rand function\n",
    "<br>\n",
    "The numpy.random.rand() function creates an array of random numbers in a specified shape [2]. The shape of the array is determined by the inputs of the user. If there is one input the array is one-dimensional, if there is two it is a two-deimensional array. Three dimensional arrays can also be created with 3 inputs."
   ]
  },
  {
   "cell_type": "code",
   "execution_count": 2,
   "metadata": {},
   "outputs": [],
   "source": [
    "# call default_rng to initiate a new instance of the generator\n",
    "from numpy.random import default_rng"
   ]
  },
  {
   "cell_type": "code",
   "execution_count": null,
   "metadata": {},
   "outputs": [],
   "source": [
    "In this example the random.rand function creates a 1d array of 5 random numbers."
   ]
  },
  {
   "cell_type": "code",
   "execution_count": 15,
   "metadata": {},
   "outputs": [
    {
     "name": "stdout",
     "output_type": "stream",
     "text": [
      "\n",
      "\n",
      "1D array:\n",
      " [0.42929945 0.05417442 0.9470704  0.77557785 0.08913487]\n"
     ]
    }
   ],
   "source": [
    "# import the numpy and matplotlib libraries\n",
    "import numpy as np\n",
    "import matplotlib.pyplot as plt\n",
    "\n",
    "# use the random.rand function\n",
    "x = np.random.rand(5)\n",
    "print(\"\\n\\n1D array:\\n\", x)"
   ]
  },
  {
   "cell_type": "code",
   "execution_count": null,
   "metadata": {},
   "outputs": [],
   "source": [
    "In example 2 the random.rand function creates a 2D array."
   ]
  },
  {
   "cell_type": "code",
   "execution_count": 19,
   "metadata": {
    "scrolled": true
   },
   "outputs": [
    {
     "name": "stdout",
     "output_type": "stream",
     "text": [
      "\n",
      "\n",
      "2D array:\n",
      " [[0.89148952 0.75895306 0.44224472 0.53657836]\n",
      " [0.77020157 0.07248991 0.24649149 0.68534406]\n",
      " [0.02675115 0.34625502 0.34546734 0.48470971]]\n"
     ]
    }
   ],
   "source": [
    "# import the numpy and matplotlib libraries\n",
    "import numpy as np\n",
    "import matplotlib.pyplot as plt\n",
    "\n",
    "# use the random.rand function\n",
    "x = np.random.rand(3, 4)\n",
    "print(\"\\n\\n2D array:\\n\", x)"
   ]
  },
  {
   "cell_type": "markdown",
   "metadata": {},
   "source": [
    "#### Choice function"
   ]
  },
  {
   "cell_type": "markdown",
   "metadata": {},
   "source": [
    "For the random.choice function a sequence of values is required. The sequence can be a list, string range a tuple or any other sequence of values[3]. To demonstrate i have created a dataset with a list of the counties of Connacht. I ask the np.random.choice to make one thousand random selections from the list. Each time it goes into the list and picks one of the counties to create a numpy array of 1000 random selections from this counties list."
   ]
  },
  {
   "cell_type": "code",
   "execution_count": 37,
   "metadata": {},
   "outputs": [
    {
     "name": "stdout",
     "output_type": "stream",
     "text": [
      "\n",
      "Random list of Connacht counties:\n",
      " ['Leitrim' 'Galway' 'Roscommon' 'Roscommon' 'Roscommon' 'Galway'\n",
      " 'Roscommon' 'Leitrim' 'Sligo' 'Sligo' 'Galway' 'Galway' 'Mayo' 'Mayo'\n",
      " 'Mayo' 'Galway' 'Leitrim' 'Roscommon' 'Galway' 'Mayo' 'Roscommon'\n",
      " 'Galway' 'Roscommon' 'Sligo' 'Leitrim' 'Leitrim' 'Leitrim' 'Leitrim'\n",
      " 'Leitrim' 'Mayo' 'Mayo' 'Galway' 'Galway' 'Leitrim' 'Leitrim' 'Leitrim'\n",
      " 'Sligo' 'Galway' 'Leitrim' 'Roscommon' 'Leitrim' 'Roscommon' 'Galway'\n",
      " 'Leitrim' 'Sligo' 'Roscommon' 'Leitrim' 'Leitrim' 'Leitrim' 'Galway'\n",
      " 'Leitrim' 'Galway' 'Galway' 'Roscommon' 'Leitrim' 'Sligo' 'Roscommon'\n",
      " 'Galway' 'Sligo' 'Galway' 'Leitrim' 'Sligo' 'Mayo' 'Mayo' 'Roscommon'\n",
      " 'Sligo' 'Roscommon' 'Roscommon' 'Mayo' 'Leitrim' 'Galway' 'Leitrim'\n",
      " 'Mayo' 'Galway' 'Mayo' 'Galway' 'Mayo' 'Sligo' 'Mayo' 'Mayo' 'Leitrim'\n",
      " 'Mayo' 'Galway' 'Leitrim' 'Roscommon' 'Leitrim' 'Leitrim' 'Galway'\n",
      " 'Sligo' 'Sligo' 'Sligo' 'Roscommon' 'Roscommon' 'Leitrim' 'Mayo' 'Mayo'\n",
      " 'Sligo' 'Roscommon' 'Leitrim' 'Mayo' 'Leitrim' 'Galway' 'Leitrim' 'Sligo'\n",
      " 'Mayo' 'Leitrim' 'Leitrim' 'Sligo' 'Roscommon' 'Leitrim' 'Roscommon'\n",
      " 'Roscommon' 'Roscommon' 'Sligo' 'Leitrim' 'Mayo' 'Mayo' 'Roscommon'\n",
      " 'Mayo' 'Mayo' 'Leitrim' 'Galway' 'Mayo' 'Sligo' 'Galway' 'Galway' 'Sligo'\n",
      " 'Sligo' 'Galway' 'Roscommon' 'Mayo' 'Galway' 'Roscommon' 'Mayo'\n",
      " 'Roscommon' 'Mayo' 'Roscommon' 'Galway' 'Roscommon' 'Galway' 'Roscommon'\n",
      " 'Sligo' 'Mayo' 'Leitrim' 'Sligo' 'Sligo' 'Roscommon' 'Roscommon'\n",
      " 'Leitrim' 'Mayo' 'Mayo' 'Leitrim' 'Galway' 'Leitrim' 'Mayo' 'Galway'\n",
      " 'Galway' 'Leitrim' 'Roscommon' 'Roscommon' 'Leitrim' 'Galway' 'Leitrim'\n",
      " 'Roscommon' 'Galway' 'Sligo' 'Galway' 'Roscommon' 'Mayo' 'Sligo' 'Sligo'\n",
      " 'Leitrim' 'Mayo' 'Mayo' 'Leitrim' 'Mayo' 'Mayo' 'Galway' 'Galway'\n",
      " 'Galway' 'Roscommon' 'Mayo' 'Mayo' 'Galway' 'Galway' 'Leitrim'\n",
      " 'Roscommon' 'Galway' 'Mayo' 'Leitrim' 'Leitrim' 'Sligo' 'Roscommon'\n",
      " 'Leitrim' 'Mayo' 'Roscommon' 'Leitrim' 'Leitrim' 'Sligo' 'Sligo'\n",
      " 'Leitrim' 'Leitrim' 'Leitrim' 'Roscommon' 'Roscommon' 'Mayo' 'Mayo'\n",
      " 'Sligo' 'Leitrim' 'Leitrim' 'Leitrim' 'Sligo' 'Sligo' 'Leitrim' 'Mayo'\n",
      " 'Sligo' 'Galway' 'Roscommon' 'Leitrim' 'Mayo' 'Galway' 'Roscommon' 'Mayo'\n",
      " 'Leitrim' 'Roscommon' 'Roscommon' 'Leitrim' 'Roscommon' 'Roscommon'\n",
      " 'Galway' 'Mayo' 'Leitrim' 'Mayo' 'Sligo' 'Leitrim' 'Sligo' 'Galway'\n",
      " 'Roscommon' 'Galway' 'Sligo' 'Leitrim' 'Roscommon' 'Galway' 'Sligo'\n",
      " 'Sligo' 'Galway' 'Sligo' 'Leitrim' 'Galway' 'Galway' 'Leitrim' 'Sligo'\n",
      " 'Sligo' 'Mayo' 'Mayo' 'Mayo' 'Mayo' 'Leitrim' 'Galway' 'Mayo' 'Sligo'\n",
      " 'Mayo' 'Mayo' 'Leitrim' 'Leitrim' 'Leitrim' 'Leitrim' 'Galway' 'Leitrim'\n",
      " 'Leitrim' 'Sligo' 'Mayo' 'Leitrim' 'Leitrim' 'Leitrim' 'Galway' 'Mayo'\n",
      " 'Galway' 'Roscommon' 'Galway' 'Roscommon' 'Roscommon' 'Mayo' 'Leitrim'\n",
      " 'Sligo' 'Sligo' 'Sligo' 'Galway' 'Roscommon' 'Leitrim' 'Sligo' 'Sligo'\n",
      " 'Mayo' 'Leitrim' 'Leitrim' 'Sligo' 'Galway' 'Leitrim' 'Galway' 'Galway'\n",
      " 'Roscommon' 'Galway' 'Sligo' 'Roscommon' 'Leitrim' 'Mayo' 'Mayo' 'Mayo'\n",
      " 'Mayo' 'Leitrim' 'Sligo' 'Leitrim' 'Sligo' 'Roscommon' 'Mayo' 'Sligo'\n",
      " 'Roscommon' 'Mayo' 'Galway' 'Leitrim' 'Roscommon' 'Sligo' 'Galway' 'Mayo'\n",
      " 'Leitrim' 'Leitrim' 'Sligo' 'Mayo' 'Mayo' 'Sligo' 'Sligo' 'Sligo'\n",
      " 'Leitrim' 'Leitrim' 'Mayo' 'Sligo' 'Leitrim' 'Galway' 'Roscommon'\n",
      " 'Galway' 'Galway' 'Mayo' 'Sligo' 'Sligo' 'Sligo' 'Leitrim' 'Mayo' 'Mayo'\n",
      " 'Leitrim' 'Mayo' 'Mayo' 'Leitrim' 'Roscommon' 'Roscommon' 'Mayo' 'Sligo'\n",
      " 'Mayo' 'Mayo' 'Roscommon' 'Mayo' 'Sligo' 'Sligo' 'Mayo' 'Galway'\n",
      " 'Roscommon' 'Galway' 'Leitrim' 'Roscommon' 'Galway' 'Sligo' 'Sligo'\n",
      " 'Roscommon' 'Mayo' 'Roscommon' 'Sligo' 'Sligo' 'Roscommon' 'Mayo' 'Mayo'\n",
      " 'Roscommon' 'Roscommon' 'Roscommon' 'Roscommon' 'Mayo' 'Mayo' 'Sligo'\n",
      " 'Mayo' 'Roscommon' 'Leitrim' 'Sligo' 'Sligo' 'Sligo' 'Leitrim' 'Mayo'\n",
      " 'Galway' 'Roscommon' 'Roscommon' 'Leitrim' 'Sligo' 'Leitrim' 'Roscommon'\n",
      " 'Roscommon' 'Galway' 'Mayo' 'Mayo' 'Galway' 'Galway' 'Leitrim'\n",
      " 'Roscommon' 'Leitrim' 'Leitrim' 'Galway' 'Roscommon' 'Galway' 'Mayo'\n",
      " 'Mayo' 'Roscommon' 'Leitrim' 'Sligo' 'Mayo' 'Galway' 'Leitrim'\n",
      " 'Roscommon' 'Sligo' 'Roscommon' 'Galway' 'Galway' 'Mayo' 'Sligo'\n",
      " 'Leitrim' 'Roscommon' 'Sligo' 'Leitrim' 'Leitrim' 'Roscommon' 'Sligo'\n",
      " 'Roscommon' 'Galway' 'Leitrim' 'Sligo' 'Roscommon' 'Mayo' 'Sligo' 'Sligo'\n",
      " 'Roscommon' 'Mayo' 'Mayo' 'Leitrim' 'Mayo' 'Mayo' 'Sligo' 'Roscommon'\n",
      " 'Roscommon' 'Mayo' 'Galway' 'Galway' 'Leitrim' 'Mayo' 'Galway' 'Galway'\n",
      " 'Sligo' 'Galway' 'Galway' 'Galway' 'Mayo' 'Roscommon' 'Mayo' 'Leitrim'\n",
      " 'Mayo' 'Sligo' 'Sligo' 'Roscommon' 'Leitrim' 'Leitrim' 'Leitrim' 'Galway'\n",
      " 'Mayo' 'Mayo' 'Sligo' 'Sligo' 'Mayo' 'Leitrim' 'Mayo' 'Roscommon' 'Mayo'\n",
      " 'Leitrim' 'Sligo' 'Sligo' 'Leitrim' 'Roscommon' 'Roscommon' 'Galway'\n",
      " 'Sligo' 'Roscommon' 'Roscommon' 'Galway' 'Roscommon' 'Galway' 'Galway'\n",
      " 'Mayo' 'Sligo' 'Galway' 'Mayo' 'Mayo' 'Roscommon' 'Leitrim' 'Galway'\n",
      " 'Leitrim' 'Leitrim' 'Roscommon' 'Galway' 'Mayo' 'Sligo' 'Roscommon'\n",
      " 'Sligo' 'Sligo' 'Roscommon' 'Roscommon' 'Galway' 'Mayo' 'Sligo' 'Galway'\n",
      " 'Leitrim' 'Galway' 'Leitrim' 'Sligo' 'Leitrim' 'Mayo' 'Galway'\n",
      " 'Roscommon' 'Roscommon' 'Galway' 'Galway' 'Galway' 'Mayo' 'Mayo' 'Mayo'\n",
      " 'Mayo' 'Mayo' 'Sligo' 'Galway' 'Leitrim' 'Leitrim' 'Sligo' 'Sligo'\n",
      " 'Sligo' 'Sligo' 'Mayo' 'Sligo' 'Roscommon' 'Leitrim' 'Mayo' 'Mayo' 'Mayo'\n",
      " 'Galway' 'Roscommon' 'Galway' 'Roscommon' 'Leitrim' 'Mayo' 'Leitrim'\n",
      " 'Leitrim' 'Roscommon' 'Leitrim' 'Sligo' 'Mayo' 'Galway' 'Sligo' 'Sligo'\n",
      " 'Mayo' 'Leitrim' 'Roscommon' 'Mayo' 'Leitrim' 'Galway' 'Galway'\n",
      " 'Roscommon' 'Leitrim' 'Sligo' 'Galway' 'Galway' 'Mayo' 'Sligo' 'Mayo'\n",
      " 'Galway' 'Roscommon' 'Mayo' 'Mayo' 'Galway' 'Mayo' 'Leitrim' 'Galway'\n",
      " 'Mayo' 'Mayo' 'Mayo' 'Sligo' 'Sligo' 'Roscommon' 'Galway' 'Roscommon'\n",
      " 'Leitrim' 'Roscommon' 'Roscommon' 'Sligo' 'Leitrim' 'Roscommon'\n",
      " 'Roscommon' 'Leitrim' 'Mayo' 'Mayo' 'Leitrim' 'Galway' 'Galway' 'Galway'\n",
      " 'Sligo' 'Sligo' 'Roscommon' 'Sligo' 'Leitrim' 'Sligo' 'Leitrim' 'Galway'\n",
      " 'Sligo' 'Sligo' 'Galway' 'Galway' 'Sligo' 'Mayo' 'Sligo' 'Sligo'\n",
      " 'Roscommon' 'Sligo' 'Mayo' 'Roscommon' 'Sligo' 'Sligo' 'Roscommon'\n",
      " 'Leitrim' 'Roscommon' 'Mayo' 'Mayo' 'Mayo' 'Roscommon' 'Galway'\n",
      " 'Roscommon' 'Galway' 'Mayo' 'Mayo' 'Roscommon' 'Roscommon' 'Roscommon'\n",
      " 'Roscommon' 'Roscommon' 'Roscommon' 'Leitrim' 'Galway' 'Mayo' 'Sligo'\n",
      " 'Galway' 'Roscommon' 'Galway' 'Mayo' 'Leitrim' 'Roscommon' 'Leitrim'\n",
      " 'Galway' 'Roscommon' 'Sligo' 'Galway' 'Mayo' 'Leitrim' 'Sligo'\n",
      " 'Roscommon' 'Leitrim' 'Roscommon' 'Mayo' 'Leitrim' 'Roscommon' 'Galway'\n",
      " 'Galway' 'Leitrim' 'Leitrim' 'Leitrim' 'Sligo' 'Mayo' 'Mayo' 'Galway'\n",
      " 'Mayo' 'Roscommon' 'Mayo' 'Mayo' 'Sligo' 'Sligo' 'Sligo' 'Sligo'\n",
      " 'Leitrim' 'Roscommon' 'Galway' 'Galway' 'Mayo' 'Roscommon' 'Roscommon'\n",
      " 'Mayo' 'Leitrim' 'Sligo' 'Roscommon' 'Leitrim' 'Galway' 'Roscommon'\n",
      " 'Sligo' 'Galway' 'Sligo' 'Galway' 'Mayo' 'Mayo' 'Mayo' 'Roscommon' 'Mayo'\n",
      " 'Roscommon' 'Sligo' 'Sligo' 'Leitrim' 'Mayo' 'Leitrim' 'Roscommon'\n",
      " 'Galway' 'Leitrim' 'Sligo' 'Mayo' 'Sligo' 'Galway' 'Sligo' 'Roscommon'\n",
      " 'Galway' 'Mayo' 'Mayo' 'Sligo' 'Mayo' 'Sligo' 'Mayo' 'Sligo' 'Roscommon'\n",
      " 'Roscommon' 'Mayo' 'Sligo' 'Galway' 'Mayo' 'Galway' 'Leitrim' 'Galway'\n",
      " 'Sligo' 'Mayo' 'Roscommon' 'Galway' 'Galway' 'Galway' 'Mayo' 'Galway'\n",
      " 'Leitrim' 'Sligo' 'Leitrim' 'Roscommon' 'Sligo' 'Roscommon' 'Mayo' 'Mayo'\n",
      " 'Sligo' 'Mayo' 'Sligo' 'Roscommon' 'Roscommon' 'Sligo' 'Galway' 'Sligo'\n",
      " 'Roscommon' 'Sligo' 'Sligo' 'Sligo' 'Leitrim' 'Leitrim' 'Mayo' 'Sligo'\n",
      " 'Roscommon' 'Mayo' 'Sligo' 'Roscommon' 'Leitrim' 'Galway' 'Roscommon'\n",
      " 'Leitrim' 'Leitrim' 'Galway' 'Sligo' 'Leitrim' 'Galway' 'Leitrim'\n",
      " 'Galway' 'Galway' 'Leitrim' 'Galway' 'Roscommon' 'Mayo' 'Mayo' 'Leitrim'\n",
      " 'Galway' 'Leitrim' 'Galway' 'Sligo' 'Leitrim' 'Roscommon' 'Mayo' 'Galway'\n",
      " 'Galway' 'Roscommon' 'Mayo' 'Galway' 'Mayo' 'Leitrim' 'Sligo' 'Leitrim'\n",
      " 'Mayo' 'Leitrim' 'Sligo' 'Roscommon' 'Sligo' 'Leitrim' 'Roscommon'\n",
      " 'Galway' 'Sligo' 'Sligo' 'Galway' 'Leitrim' 'Leitrim' 'Mayo' 'Galway'\n",
      " 'Sligo' 'Sligo' 'Roscommon' 'Roscommon' 'Leitrim' 'Mayo' 'Mayo' 'Sligo'\n",
      " 'Leitrim' 'Leitrim' 'Galway' 'Leitrim' 'Mayo' 'Leitrim' 'Roscommon'\n",
      " 'Roscommon' 'Mayo' 'Roscommon' 'Leitrim' 'Mayo' 'Sligo' 'Leitrim'\n",
      " 'Leitrim' 'Leitrim' 'Mayo' 'Sligo' 'Mayo' 'Sligo' 'Galway' 'Mayo'\n",
      " 'Galway' 'Sligo' 'Galway' 'Roscommon' 'Sligo' 'Mayo' 'Sligo' 'Galway'\n",
      " 'Galway' 'Roscommon' 'Sligo' 'Sligo' 'Galway' 'Leitrim' 'Galway'\n",
      " 'Roscommon' 'Leitrim' 'Roscommon' 'Roscommon' 'Galway' 'Mayo' 'Mayo'\n",
      " 'Sligo' 'Sligo' 'Sligo' 'Mayo' 'Galway' 'Mayo' 'Mayo' 'Roscommon'\n",
      " 'Roscommon' 'Galway' 'Leitrim' 'Galway' 'Roscommon' 'Galway' 'Roscommon'\n",
      " 'Roscommon' 'Roscommon' 'Roscommon' 'Sligo' 'Mayo' 'Mayo' 'Mayo'\n",
      " 'Roscommon' 'Leitrim' 'Sligo' 'Galway' 'Roscommon' 'Sligo' 'Galway'\n",
      " 'Roscommon' 'Leitrim' 'Sligo' 'Roscommon' 'Mayo' 'Mayo' 'Leitrim' 'Sligo'\n",
      " 'Mayo' 'Sligo' 'Roscommon' 'Roscommon' 'Sligo' 'Mayo' 'Sligo' 'Sligo'\n",
      " 'Roscommon' 'Galway' 'Mayo' 'Sligo' 'Mayo' 'Leitrim' 'Galway' 'Leitrim'\n",
      " 'Roscommon' 'Sligo' 'Mayo' 'Sligo' 'Leitrim' 'Leitrim' 'Galway'\n",
      " 'Roscommon' 'Leitrim' 'Mayo' 'Mayo' 'Leitrim' 'Sligo' 'Leitrim' 'Sligo'\n",
      " 'Roscommon' 'Galway' 'Galway' 'Galway' 'Galway' 'Leitrim' 'Sligo'\n",
      " 'Galway' 'Leitrim' 'Leitrim' 'Galway' 'Roscommon' 'Mayo' 'Roscommon'\n",
      " 'Galway' 'Mayo' 'Sligo' 'Mayo' 'Leitrim' 'Roscommon' 'Sligo' 'Galway'\n",
      " 'Roscommon' 'Leitrim' 'Leitrim' 'Galway' 'Roscommon' 'Leitrim' 'Leitrim'\n",
      " 'Leitrim' 'Galway' 'Leitrim' 'Galway' 'Leitrim' 'Sligo' 'Roscommon'\n",
      " 'Sligo' 'Leitrim' 'Roscommon' 'Leitrim' 'Mayo' 'Mayo' 'Galway' 'Leitrim'\n",
      " 'Galway']\n"
     ]
    }
   ],
   "source": [
    "# create the dataset\n",
    "counties = [\"Galway\", \"Leitrim\", \"Mayo\", \"Roscommon\", \"Sligo\"]\n",
    "\n",
    "# randomly pick 1000 random selections\n",
    "cty = np.random.choice(counties, 1000)\n",
    "# Print resulting array\n",
    "print(\"\\nRandom list of Connacht counties:\\n\",cty)"
   ]
  },
  {
   "cell_type": "markdown",
   "metadata": {},
   "source": [
    "I import the Seaborn library to create a countplot of the random values in the array. If the array of values are random you would expect to see the number of counties appear a fifth of the time. However there is some random variation, If the function is re-run you can see the results changes in the array and the plot to display the randomness of the numpy.random.choice function.  "
   ]
  },
  {
   "cell_type": "code",
   "execution_count": 54,
   "metadata": {},
   "outputs": [
    {
     "data": {
      "text/plain": [
       "<AxesSubplot:ylabel='count'>"
      ]
     },
     "execution_count": 54,
     "metadata": {},
     "output_type": "execute_result"
    },
    {
     "data": {
      "image/png": "[encoded data removed]",
      "text/plain": [
       "<Figure size 432x288 with 1 Axes>"
      ]
     },
     "metadata": {
      "needs_background": "light"
     },
     "output_type": "display_data"
    }
   ],
   "source": [
    "# Import the Seaborn library\n",
    "import seaborn as sns\n",
    "# Create a countplot of the array of random values\n",
    "sns.countplot(x=cty)"
   ]
  },
  {
   "cell_type": "markdown",
   "metadata": {},
   "source": [
    "<br>\n",
    "\n",
    "### Explain the use of the “Simple random data” and “Permutations” functions\n",
    "***"
   ]
  },
  {
   "cell_type": "code",
   "execution_count": null,
   "metadata": {},
   "outputs": [],
   "source": []
  },
  {
   "cell_type": "markdown",
   "metadata": {},
   "source": [
    "### References \n",
    "\n",
    "[1] Numpy; Bit Generators; https://numpy.org/doc/stable/reference/random/bit_generators/index.html\n",
    "[2] Geeks for Geeks; numpy.random.rand() in Python, https://www.geeksforgeeks.org/numpy-random-rand-python/\n",
    "[3] w3schools.com; Python Random choice() method, https://www.w3schools.com/python/ref_random_choice.asp"
   ]
  }
 ],
 "metadata": {
  "kernelspec": {
   "display_name": "Python 3",
   "language": "python",
   "name": "python3"
  },
  "language_info": {
   "codemirror_mode": {
    "name": "ipython",
    "version": 3
   },
   "file_extension": ".py",
   "mimetype": "text/x-python",
   "name": "python",
   "nbconvert_exporter": "python",
   "pygments_lexer": "ipython3",
   "version": "3.8.5"
  }
 },
 "nbformat": 4,
 "nbformat_minor": 4
}
