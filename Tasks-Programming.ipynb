{
 "cells": [
  {
   "cell_type": "markdown",
   "metadata": {},
   "source": [
    "# Assignment-Programming"
   ]
  },
  {
   "cell_type": "markdown",
   "metadata": {},
   "source": [
    "### 1) Explain the overall purpose of the Numpy package\n",
    "****"
   ]
  },
  {
   "cell_type": "markdown",
   "metadata": {},
   "source": [
    "Numpy is a library that provides a data structure for dealing with numerical data. The Numpy.random package is a module within the Numpy Library which contains a number of functions which are used for generating random numbers. It does this by using a Bit Generator such as PCG-64 (Permuted Congruential Generator 64) and the MIT (Mersenne Twister) algorithms to produce the random values [1]. Below i will display some functions within the module which i will use the describe what the package is all about."
   ]
  },
  {
   "cell_type": "markdown",
   "metadata": {},
   "source": [
    "#### Random.rand function\n",
    "<br>\n",
    "The numpy.random.rand() function creates an array of random numbers in a specified shape [2]. The shape of the array is determined by the inputs of the user. If there is one input the array is one-dimensional, if there is two it is a two-deimensional array. Three dimensional arrays can also be created with 3 inputs."
   ]
  },
  {
   "cell_type": "code",
   "execution_count": 2,
   "metadata": {},
   "outputs": [],
   "source": [
    "# call default_rng to initiate a new instance of the generator\n",
    "from numpy.random import default_rng"
   ]
  },
  {
   "cell_type": "code",
   "execution_count": null,
   "metadata": {},
   "outputs": [],
   "source": [
    "In this example the random.rand function creates a 1d array of 5 random numbers."
   ]
  },
  {
   "cell_type": "code",
   "execution_count": 15,
   "metadata": {},
   "outputs": [
    {
     "name": "stdout",
     "output_type": "stream",
     "text": [
      "\n",
      "\n",
      "1D array:\n",
      " [0.42929945 0.05417442 0.9470704  0.77557785 0.08913487]\n"
     ]
    }
   ],
   "source": [
    "# import the numpy and matplotlib libraries\n",
    "import numpy as np\n",
    "import matplotlib.pyplot as plt\n",
    "\n",
    "# use the random.rand function\n",
    "x = np.random.rand(5)\n",
    "print(\"\\n\\n1D array:\\n\", x)"
   ]
  },
  {
   "cell_type": "code",
   "execution_count": null,
   "metadata": {},
   "outputs": [],
   "source": [
    "In example 2 the random.rand function creates a 2D array."
   ]
  },
  {
   "cell_type": "code",
   "execution_count": 19,
   "metadata": {
    "scrolled": true
   },
   "outputs": [
    {
     "name": "stdout",
     "output_type": "stream",
     "text": [
      "\n",
      "\n",
      "2D array:\n",
      " [[0.89148952 0.75895306 0.44224472 0.53657836]\n",
      " [0.77020157 0.07248991 0.24649149 0.68534406]\n",
      " [0.02675115 0.34625502 0.34546734 0.48470971]]\n"
     ]
    }
   ],
   "source": [
    "# import the numpy and matplotlib libraries\n",
    "import numpy as np\n",
    "import matplotlib.pyplot as plt\n",
    "\n",
    "# use the random.rand function\n",
    "x = np.random.rand(3, 4)\n",
    "print(\"\\n\\n2D array:\\n\", x)"
   ]
  },
  {
   "cell_type": "markdown",
   "metadata": {},
   "source": [
    "#### Random.choice function"
   ]
  },
  {
   "cell_type": "markdown",
   "metadata": {},
   "source": [
    "For the random.choice function a sequence of values is required. The sequence can be a list, string range a tuple or any other sequence of values[3]. To demonstrate i have created a dataset with a list of the counties of Connacht. I ask the np.random.choice to make one thousand random selections from the list. Each time it goes into the list and picks one of the counties to create a numpy array of 1000 random selections from this counties list."
   ]
  },
  {
   "cell_type": "code",
   "execution_count": 37,
   "metadata": {},
   "outputs": [
    {
     "name": "stdout",
     "output_type": "stream",
     "text": [
      "\n",
      "Random list of Connacht counties:\n",
      " ['Leitrim' 'Galway' 'Roscommon' 'Roscommon' 'Roscommon' 'Galway'\n",
      " 'Roscommon' 'Leitrim' 'Sligo' 'Sligo' 'Galway' 'Galway' 'Mayo' 'Mayo'\n",
      " 'Mayo' 'Galway' 'Leitrim' 'Roscommon' 'Galway' 'Mayo' 'Roscommon'\n",
      " 'Galway' 'Roscommon' 'Sligo' 'Leitrim' 'Leitrim' 'Leitrim' 'Leitrim'\n",
      " 'Leitrim' 'Mayo' 'Mayo' 'Galway' 'Galway' 'Leitrim' 'Leitrim' 'Leitrim'\n",
      " 'Sligo' 'Galway' 'Leitrim' 'Roscommon' 'Leitrim' 'Roscommon' 'Galway'\n",
      " 'Leitrim' 'Sligo' 'Roscommon' 'Leitrim' 'Leitrim' 'Leitrim' 'Galway'\n",
      " 'Leitrim' 'Galway' 'Galway' 'Roscommon' 'Leitrim' 'Sligo' 'Roscommon'\n",
      " 'Galway' 'Sligo' 'Galway' 'Leitrim' 'Sligo' 'Mayo' 'Mayo' 'Roscommon'\n",
      " 'Sligo' 'Roscommon' 'Roscommon' 'Mayo' 'Leitrim' 'Galway' 'Leitrim'\n",
      " 'Mayo' 'Galway' 'Mayo' 'Galway' 'Mayo' 'Sligo' 'Mayo' 'Mayo' 'Leitrim'\n",
      " 'Mayo' 'Galway' 'Leitrim' 'Roscommon' 'Leitrim' 'Leitrim' 'Galway'\n",
      " 'Sligo' 'Sligo' 'Sligo' 'Roscommon' 'Roscommon' 'Leitrim' 'Mayo' 'Mayo'\n",
      " 'Sligo' 'Roscommon' 'Leitrim' 'Mayo' 'Leitrim' 'Galway' 'Leitrim' 'Sligo'\n",
      " 'Mayo' 'Leitrim' 'Leitrim' 'Sligo' 'Roscommon' 'Leitrim' 'Roscommon'\n",
      " 'Roscommon' 'Roscommon' 'Sligo' 'Leitrim' 'Mayo' 'Mayo' 'Roscommon'\n",
      " 'Mayo' 'Mayo' 'Leitrim' 'Galway' 'Mayo' 'Sligo' 'Galway' 'Galway' 'Sligo'\n",
      " 'Sligo' 'Galway' 'Roscommon' 'Mayo' 'Galway' 'Roscommon' 'Mayo'\n",
      " 'Roscommon' 'Mayo' 'Roscommon' 'Galway' 'Roscommon' 'Galway' 'Roscommon'\n",
      " 'Sligo' 'Mayo' 'Leitrim' 'Sligo' 'Sligo' 'Roscommon' 'Roscommon'\n",
      " 'Leitrim' 'Mayo' 'Mayo' 'Leitrim' 'Galway' 'Leitrim' 'Mayo' 'Galway'\n",
      " 'Galway' 'Leitrim' 'Roscommon' 'Roscommon' 'Leitrim' 'Galway' 'Leitrim'\n",
      " 'Roscommon' 'Galway' 'Sligo' 'Galway' 'Roscommon' 'Mayo' 'Sligo' 'Sligo'\n",
      " 'Leitrim' 'Mayo' 'Mayo' 'Leitrim' 'Mayo' 'Mayo' 'Galway' 'Galway'\n",
      " 'Galway' 'Roscommon' 'Mayo' 'Mayo' 'Galway' 'Galway' 'Leitrim'\n",
      " 'Roscommon' 'Galway' 'Mayo' 'Leitrim' 'Leitrim' 'Sligo' 'Roscommon'\n",
      " 'Leitrim' 'Mayo' 'Roscommon' 'Leitrim' 'Leitrim' 'Sligo' 'Sligo'\n",
      " 'Leitrim' 'Leitrim' 'Leitrim' 'Roscommon' 'Roscommon' 'Mayo' 'Mayo'\n",
      " 'Sligo' 'Leitrim' 'Leitrim' 'Leitrim' 'Sligo' 'Sligo' 'Leitrim' 'Mayo'\n",
      " 'Sligo' 'Galway' 'Roscommon' 'Leitrim' 'Mayo' 'Galway' 'Roscommon' 'Mayo'\n",
      " 'Leitrim' 'Roscommon' 'Roscommon' 'Leitrim' 'Roscommon' 'Roscommon'\n",
      " 'Galway' 'Mayo' 'Leitrim' 'Mayo' 'Sligo' 'Leitrim' 'Sligo' 'Galway'\n",
      " 'Roscommon' 'Galway' 'Sligo' 'Leitrim' 'Roscommon' 'Galway' 'Sligo'\n",
      " 'Sligo' 'Galway' 'Sligo' 'Leitrim' 'Galway' 'Galway' 'Leitrim' 'Sligo'\n",
      " 'Sligo' 'Mayo' 'Mayo' 'Mayo' 'Mayo' 'Leitrim' 'Galway' 'Mayo' 'Sligo'\n",
      " 'Mayo' 'Mayo' 'Leitrim' 'Leitrim' 'Leitrim' 'Leitrim' 'Galway' 'Leitrim'\n",
      " 'Leitrim' 'Sligo' 'Mayo' 'Leitrim' 'Leitrim' 'Leitrim' 'Galway' 'Mayo'\n",
      " 'Galway' 'Roscommon' 'Galway' 'Roscommon' 'Roscommon' 'Mayo' 'Leitrim'\n",
      " 'Sligo' 'Sligo' 'Sligo' 'Galway' 'Roscommon' 'Leitrim' 'Sligo' 'Sligo'\n",
      " 'Mayo' 'Leitrim' 'Leitrim' 'Sligo' 'Galway' 'Leitrim' 'Galway' 'Galway'\n",
      " 'Roscommon' 'Galway' 'Sligo' 'Roscommon' 'Leitrim' 'Mayo' 'Mayo' 'Mayo'\n",
      " 'Mayo' 'Leitrim' 'Sligo' 'Leitrim' 'Sligo' 'Roscommon' 'Mayo' 'Sligo'\n",
      " 'Roscommon' 'Mayo' 'Galway' 'Leitrim' 'Roscommon' 'Sligo' 'Galway' 'Mayo'\n",
      " 'Leitrim' 'Leitrim' 'Sligo' 'Mayo' 'Mayo' 'Sligo' 'Sligo' 'Sligo'\n",
      " 'Leitrim' 'Leitrim' 'Mayo' 'Sligo' 'Leitrim' 'Galway' 'Roscommon'\n",
      " 'Galway' 'Galway' 'Mayo' 'Sligo' 'Sligo' 'Sligo' 'Leitrim' 'Mayo' 'Mayo'\n",
      " 'Leitrim' 'Mayo' 'Mayo' 'Leitrim' 'Roscommon' 'Roscommon' 'Mayo' 'Sligo'\n",
      " 'Mayo' 'Mayo' 'Roscommon' 'Mayo' 'Sligo' 'Sligo' 'Mayo' 'Galway'\n",
      " 'Roscommon' 'Galway' 'Leitrim' 'Roscommon' 'Galway' 'Sligo' 'Sligo'\n",
      " 'Roscommon' 'Mayo' 'Roscommon' 'Sligo' 'Sligo' 'Roscommon' 'Mayo' 'Mayo'\n",
      " 'Roscommon' 'Roscommon' 'Roscommon' 'Roscommon' 'Mayo' 'Mayo' 'Sligo'\n",
      " 'Mayo' 'Roscommon' 'Leitrim' 'Sligo' 'Sligo' 'Sligo' 'Leitrim' 'Mayo'\n",
      " 'Galway' 'Roscommon' 'Roscommon' 'Leitrim' 'Sligo' 'Leitrim' 'Roscommon'\n",
      " 'Roscommon' 'Galway' 'Mayo' 'Mayo' 'Galway' 'Galway' 'Leitrim'\n",
      " 'Roscommon' 'Leitrim' 'Leitrim' 'Galway' 'Roscommon' 'Galway' 'Mayo'\n",
      " 'Mayo' 'Roscommon' 'Leitrim' 'Sligo' 'Mayo' 'Galway' 'Leitrim'\n",
      " 'Roscommon' 'Sligo' 'Roscommon' 'Galway' 'Galway' 'Mayo' 'Sligo'\n",
      " 'Leitrim' 'Roscommon' 'Sligo' 'Leitrim' 'Leitrim' 'Roscommon' 'Sligo'\n",
      " 'Roscommon' 'Galway' 'Leitrim' 'Sligo' 'Roscommon' 'Mayo' 'Sligo' 'Sligo'\n",
      " 'Roscommon' 'Mayo' 'Mayo' 'Leitrim' 'Mayo' 'Mayo' 'Sligo' 'Roscommon'\n",
      " 'Roscommon' 'Mayo' 'Galway' 'Galway' 'Leitrim' 'Mayo' 'Galway' 'Galway'\n",
      " 'Sligo' 'Galway' 'Galway' 'Galway' 'Mayo' 'Roscommon' 'Mayo' 'Leitrim'\n",
      " 'Mayo' 'Sligo' 'Sligo' 'Roscommon' 'Leitrim' 'Leitrim' 'Leitrim' 'Galway'\n",
      " 'Mayo' 'Mayo' 'Sligo' 'Sligo' 'Mayo' 'Leitrim' 'Mayo' 'Roscommon' 'Mayo'\n",
      " 'Leitrim' 'Sligo' 'Sligo' 'Leitrim' 'Roscommon' 'Roscommon' 'Galway'\n",
      " 'Sligo' 'Roscommon' 'Roscommon' 'Galway' 'Roscommon' 'Galway' 'Galway'\n",
      " 'Mayo' 'Sligo' 'Galway' 'Mayo' 'Mayo' 'Roscommon' 'Leitrim' 'Galway'\n",
      " 'Leitrim' 'Leitrim' 'Roscommon' 'Galway' 'Mayo' 'Sligo' 'Roscommon'\n",
      " 'Sligo' 'Sligo' 'Roscommon' 'Roscommon' 'Galway' 'Mayo' 'Sligo' 'Galway'\n",
      " 'Leitrim' 'Galway' 'Leitrim' 'Sligo' 'Leitrim' 'Mayo' 'Galway'\n",
      " 'Roscommon' 'Roscommon' 'Galway' 'Galway' 'Galway' 'Mayo' 'Mayo' 'Mayo'\n",
      " 'Mayo' 'Mayo' 'Sligo' 'Galway' 'Leitrim' 'Leitrim' 'Sligo' 'Sligo'\n",
      " 'Sligo' 'Sligo' 'Mayo' 'Sligo' 'Roscommon' 'Leitrim' 'Mayo' 'Mayo' 'Mayo'\n",
      " 'Galway' 'Roscommon' 'Galway' 'Roscommon' 'Leitrim' 'Mayo' 'Leitrim'\n",
      " 'Leitrim' 'Roscommon' 'Leitrim' 'Sligo' 'Mayo' 'Galway' 'Sligo' 'Sligo'\n",
      " 'Mayo' 'Leitrim' 'Roscommon' 'Mayo' 'Leitrim' 'Galway' 'Galway'\n",
      " 'Roscommon' 'Leitrim' 'Sligo' 'Galway' 'Galway' 'Mayo' 'Sligo' 'Mayo'\n",
      " 'Galway' 'Roscommon' 'Mayo' 'Mayo' 'Galway' 'Mayo' 'Leitrim' 'Galway'\n",
      " 'Mayo' 'Mayo' 'Mayo' 'Sligo' 'Sligo' 'Roscommon' 'Galway' 'Roscommon'\n",
      " 'Leitrim' 'Roscommon' 'Roscommon' 'Sligo' 'Leitrim' 'Roscommon'\n",
      " 'Roscommon' 'Leitrim' 'Mayo' 'Mayo' 'Leitrim' 'Galway' 'Galway' 'Galway'\n",
      " 'Sligo' 'Sligo' 'Roscommon' 'Sligo' 'Leitrim' 'Sligo' 'Leitrim' 'Galway'\n",
      " 'Sligo' 'Sligo' 'Galway' 'Galway' 'Sligo' 'Mayo' 'Sligo' 'Sligo'\n",
      " 'Roscommon' 'Sligo' 'Mayo' 'Roscommon' 'Sligo' 'Sligo' 'Roscommon'\n",
      " 'Leitrim' 'Roscommon' 'Mayo' 'Mayo' 'Mayo' 'Roscommon' 'Galway'\n",
      " 'Roscommon' 'Galway' 'Mayo' 'Mayo' 'Roscommon' 'Roscommon' 'Roscommon'\n",
      " 'Roscommon' 'Roscommon' 'Roscommon' 'Leitrim' 'Galway' 'Mayo' 'Sligo'\n",
      " 'Galway' 'Roscommon' 'Galway' 'Mayo' 'Leitrim' 'Roscommon' 'Leitrim'\n",
      " 'Galway' 'Roscommon' 'Sligo' 'Galway' 'Mayo' 'Leitrim' 'Sligo'\n",
      " 'Roscommon' 'Leitrim' 'Roscommon' 'Mayo' 'Leitrim' 'Roscommon' 'Galway'\n",
      " 'Galway' 'Leitrim' 'Leitrim' 'Leitrim' 'Sligo' 'Mayo' 'Mayo' 'Galway'\n",
      " 'Mayo' 'Roscommon' 'Mayo' 'Mayo' 'Sligo' 'Sligo' 'Sligo' 'Sligo'\n",
      " 'Leitrim' 'Roscommon' 'Galway' 'Galway' 'Mayo' 'Roscommon' 'Roscommon'\n",
      " 'Mayo' 'Leitrim' 'Sligo' 'Roscommon' 'Leitrim' 'Galway' 'Roscommon'\n",
      " 'Sligo' 'Galway' 'Sligo' 'Galway' 'Mayo' 'Mayo' 'Mayo' 'Roscommon' 'Mayo'\n",
      " 'Roscommon' 'Sligo' 'Sligo' 'Leitrim' 'Mayo' 'Leitrim' 'Roscommon'\n",
      " 'Galway' 'Leitrim' 'Sligo' 'Mayo' 'Sligo' 'Galway' 'Sligo' 'Roscommon'\n",
      " 'Galway' 'Mayo' 'Mayo' 'Sligo' 'Mayo' 'Sligo' 'Mayo' 'Sligo' 'Roscommon'\n",
      " 'Roscommon' 'Mayo' 'Sligo' 'Galway' 'Mayo' 'Galway' 'Leitrim' 'Galway'\n",
      " 'Sligo' 'Mayo' 'Roscommon' 'Galway' 'Galway' 'Galway' 'Mayo' 'Galway'\n",
      " 'Leitrim' 'Sligo' 'Leitrim' 'Roscommon' 'Sligo' 'Roscommon' 'Mayo' 'Mayo'\n",
      " 'Sligo' 'Mayo' 'Sligo' 'Roscommon' 'Roscommon' 'Sligo' 'Galway' 'Sligo'\n",
      " 'Roscommon' 'Sligo' 'Sligo' 'Sligo' 'Leitrim' 'Leitrim' 'Mayo' 'Sligo'\n",
      " 'Roscommon' 'Mayo' 'Sligo' 'Roscommon' 'Leitrim' 'Galway' 'Roscommon'\n",
      " 'Leitrim' 'Leitrim' 'Galway' 'Sligo' 'Leitrim' 'Galway' 'Leitrim'\n",
      " 'Galway' 'Galway' 'Leitrim' 'Galway' 'Roscommon' 'Mayo' 'Mayo' 'Leitrim'\n",
      " 'Galway' 'Leitrim' 'Galway' 'Sligo' 'Leitrim' 'Roscommon' 'Mayo' 'Galway'\n",
      " 'Galway' 'Roscommon' 'Mayo' 'Galway' 'Mayo' 'Leitrim' 'Sligo' 'Leitrim'\n",
      " 'Mayo' 'Leitrim' 'Sligo' 'Roscommon' 'Sligo' 'Leitrim' 'Roscommon'\n",
      " 'Galway' 'Sligo' 'Sligo' 'Galway' 'Leitrim' 'Leitrim' 'Mayo' 'Galway'\n",
      " 'Sligo' 'Sligo' 'Roscommon' 'Roscommon' 'Leitrim' 'Mayo' 'Mayo' 'Sligo'\n",
      " 'Leitrim' 'Leitrim' 'Galway' 'Leitrim' 'Mayo' 'Leitrim' 'Roscommon'\n",
      " 'Roscommon' 'Mayo' 'Roscommon' 'Leitrim' 'Mayo' 'Sligo' 'Leitrim'\n",
      " 'Leitrim' 'Leitrim' 'Mayo' 'Sligo' 'Mayo' 'Sligo' 'Galway' 'Mayo'\n",
      " 'Galway' 'Sligo' 'Galway' 'Roscommon' 'Sligo' 'Mayo' 'Sligo' 'Galway'\n",
      " 'Galway' 'Roscommon' 'Sligo' 'Sligo' 'Galway' 'Leitrim' 'Galway'\n",
      " 'Roscommon' 'Leitrim' 'Roscommon' 'Roscommon' 'Galway' 'Mayo' 'Mayo'\n",
      " 'Sligo' 'Sligo' 'Sligo' 'Mayo' 'Galway' 'Mayo' 'Mayo' 'Roscommon'\n",
      " 'Roscommon' 'Galway' 'Leitrim' 'Galway' 'Roscommon' 'Galway' 'Roscommon'\n",
      " 'Roscommon' 'Roscommon' 'Roscommon' 'Sligo' 'Mayo' 'Mayo' 'Mayo'\n",
      " 'Roscommon' 'Leitrim' 'Sligo' 'Galway' 'Roscommon' 'Sligo' 'Galway'\n",
      " 'Roscommon' 'Leitrim' 'Sligo' 'Roscommon' 'Mayo' 'Mayo' 'Leitrim' 'Sligo'\n",
      " 'Mayo' 'Sligo' 'Roscommon' 'Roscommon' 'Sligo' 'Mayo' 'Sligo' 'Sligo'\n",
      " 'Roscommon' 'Galway' 'Mayo' 'Sligo' 'Mayo' 'Leitrim' 'Galway' 'Leitrim'\n",
      " 'Roscommon' 'Sligo' 'Mayo' 'Sligo' 'Leitrim' 'Leitrim' 'Galway'\n",
      " 'Roscommon' 'Leitrim' 'Mayo' 'Mayo' 'Leitrim' 'Sligo' 'Leitrim' 'Sligo'\n",
      " 'Roscommon' 'Galway' 'Galway' 'Galway' 'Galway' 'Leitrim' 'Sligo'\n",
      " 'Galway' 'Leitrim' 'Leitrim' 'Galway' 'Roscommon' 'Mayo' 'Roscommon'\n",
      " 'Galway' 'Mayo' 'Sligo' 'Mayo' 'Leitrim' 'Roscommon' 'Sligo' 'Galway'\n",
      " 'Roscommon' 'Leitrim' 'Leitrim' 'Galway' 'Roscommon' 'Leitrim' 'Leitrim'\n",
      " 'Leitrim' 'Galway' 'Leitrim' 'Galway' 'Leitrim' 'Sligo' 'Roscommon'\n",
      " 'Sligo' 'Leitrim' 'Roscommon' 'Leitrim' 'Mayo' 'Mayo' 'Galway' 'Leitrim'\n",
      " 'Galway']\n"
     ]
    }
   ],
   "source": [
    "# create the dataset\n",
    "counties = [\"Galway\", \"Leitrim\", \"Mayo\", \"Roscommon\", \"Sligo\"]\n",
    "\n",
    "# randomly pick 1000 random selections\n",
    "cty = np.random.choice(counties, 1000)\n",
    "# Print resulting array\n",
    "print(\"\\nRandom list of Connacht counties:\\n\",cty)"
   ]
  },
  {
   "cell_type": "markdown",
   "metadata": {},
   "source": [
    "I import the Seaborn library to create a countplot of the random values in the array. If the array of values are random you would expect to see the number of counties appear a fifth of the time. However there is some random variation, If the function is re-run you can see the results changes in the array and the plot to display the randomness of the numpy.random.choice function.  "
   ]
  },
  {
   "cell_type": "code",
   "execution_count": 54,
   "metadata": {},
   "outputs": [
    {
     "data": {
      "text/plain": [
       "<AxesSubplot:ylabel='count'>"
      ]
     },
     "execution_count": 54,
     "metadata": {},
     "output_type": "execute_result"
    },
    {
     "data": {
      "image/png": "[encoded data removed]",
      "text/plain": [
       "<Figure size 432x288 with 1 Axes>"
      ]
     },
     "metadata": {
      "needs_background": "light"
     },
     "output_type": "display_data"
    }
   ],
   "source": [
    "# Import the Seaborn library\n",
    "import seaborn as sns\n",
    "# Create a countplot of the array of random values\n",
    "sns.countplot(x=cty)"
   ]
  },
  {
   "cell_type": "markdown",
   "metadata": {},
   "source": [
    "<br>\n",
    "\n",
    "### 2) Explain the use of the “Simple random data” and “Permutations” functions.\n",
    "***"
   ]
  },
  {
   "cell_type": "markdown",
   "metadata": {},
   "source": [
    "#### Simple random data"
   ]
  },
  {
   "cell_type": "markdown",
   "metadata": {},
   "source": [
    "Simple random data is defined as a technique in which every item in the population has an equal chance of being selected in the sample. Each item is chosen randomly and entirely by chance. We saw this previously in one of the simple random data functions random.choice where an array of random values is generated from a list. There were 5 items within the list and the random.choice function created an array of a thousand items of random selections. Each item was selected randomly on all one thousand selections. The following examples of functions random.integers and random.bytes also display the concept of random sampling where each object has the same probability of being chosen. "
   ]
  },
  {
   "cell_type": "markdown",
   "metadata": {},
   "source": [
    "#### Random.integers function"
   ]
  },
  {
   "cell_type": "markdown",
   "metadata": {},
   "source": [
    "Random.integers functions produce whole numbers (without the decimal component). There are anumber of additional parameters that are used in the random.integers function. \n",
    "Random.integers(low, high, size, dtype, endpoint) Low is the lowest integer from the distribution, high is the highest and size is the sample size. In the following example produces a list of 500 random number ranging from 10 to 200."
   ]
  },
  {
   "cell_type": "code",
   "execution_count": 12,
   "metadata": {},
   "outputs": [],
   "source": [
    "# call default_rng to initiate a new instance of the generator\n",
    "import numpy as np\n",
    "\n",
    "rng = np.random.default_rng()\n",
    "import matplotlib.pyplot as plt"
   ]
  },
  {
   "cell_type": "code",
   "execution_count": 14,
   "metadata": {},
   "outputs": [
    {
     "data": {
      "text/plain": [
       "(array([57., 52., 47., 44., 52., 55., 48., 57., 44., 44.]),\n",
       " array([ 11. ,  29.8,  48.6,  67.4,  86.2, 105. , 123.8, 142.6, 161.4,\n",
       "        180.2, 199. ]),\n",
       " <BarContainer object of 10 artists>)"
      ]
     },
     "execution_count": 14,
     "metadata": {},
     "output_type": "execute_result"
    },
    {
     "data": {
      "image/png": "[encoded data removed]",
      "text/plain": [
       "<Figure size 432x288 with 1 Axes>"
      ]
     },
     "metadata": {
      "needs_background": "light"
     },
     "output_type": "display_data"
    }
   ],
   "source": [
    "x = rng.integers(10, 200, size = 500)\n",
    "plt.hist(x)"
   ]
  },
  {
   "cell_type": "markdown",
   "metadata": {},
   "source": [
    "#### Random function"
   ]
  },
  {
   "cell_type": "raw",
   "metadata": {},
   "source": [
    "Random function returns an array of floating point numbers. The number of which is defined by the input into the size parameter. The example below produces an out put of 4 floating point numbers defined by the input 4 into the function.  Each time the function is ran produces a different result displying the randomness of the function."
   ]
  },
  {
   "cell_type": "code",
   "execution_count": 15,
   "metadata": {},
   "outputs": [
    {
     "data": {
      "text/plain": [
       "array([0.56612768, 0.60155483, 0.01003371, 0.17226004])"
      ]
     },
     "execution_count": 15,
     "metadata": {},
     "output_type": "execute_result"
    }
   ],
   "source": [
    "rng = np.random.default_rng()\n",
    "y = rng.random(4)\n",
    "y"
   ]
  },
  {
   "cell_type": "markdown",
   "metadata": {},
   "source": [
    "#### Permutations"
   ]
  },
  {
   "cell_type": "markdown",
   "metadata": {},
   "source": [
    "Random.permutations function returns a re-arranged array of elements if a list of elements [4] is provided as an input or returns a permuted range. In the example below the permutations function re-arranges the contents of a list of 8 numbers which are provided as input."
   ]
  },
  {
   "cell_type": "code",
   "execution_count": 16,
   "metadata": {},
   "outputs": [
    {
     "data": {
      "text/plain": [
       "array([10,  5,  6, 23,  9,  3,  8, 17])"
      ]
     },
     "execution_count": 16,
     "metadata": {},
     "output_type": "execute_result"
    }
   ],
   "source": [
    "import numpy as np\n",
    "rng = np.random.default_rng()\n",
    "rng.permutation([3, 9, 6, 8, 10, 23, 5, 17])"
   ]
  },
  {
   "cell_type": "markdown",
   "metadata": {},
   "source": [
    "#### Shuffle function"
   ]
  },
  {
   "cell_type": "markdown",
   "metadata": {},
   "source": [
    "The shuffle function works much the same as the permutation function. The key difference is permutation method returns a re-arranged array and leaves the original array unchanged. Whereas the shuffle method makes changes to the original array and returns a shuffles array and you are left with the original array only."
   ]
  },
  {
   "cell_type": "code",
   "execution_count": 29,
   "metadata": {},
   "outputs": [
    {
     "data": {
      "text/plain": [
       "array([9, 5, 7, 2, 1, 4, 6, 0, 3, 8])"
      ]
     },
     "execution_count": 29,
     "metadata": {},
     "output_type": "execute_result"
    }
   ],
   "source": [
    "import numpy as np\n",
    "from numpy.random import default_rng\n",
    "rng = np.random.default_rng()\n",
    "x = np.arange(10)\n",
    "rng.shuffle(x)\n",
    "x"
   ]
  },
  {
   "cell_type": "markdown",
   "metadata": {},
   "source": [
    "<br>\n",
    "\n",
    "### 3. Explain the use and purpose of at least five \"Distributions\" functions.\n",
    "***"
   ]
  },
  {
   "cell_type": "markdown",
   "metadata": {},
   "source": [
    "#### Normal function"
   ]
  },
  {
   "cell_type": "markdown",
   "metadata": {},
   "source": [
    "The use of this function to get the normal data distribution. The distribution is used in many events (IQ Scores, heartbeat) [5]. It has 3 input parameters Random.normal(loc, scale, size) loc - is the mean of the distribution, scale - is the standard deviation or spread of the distribution and size - is the number of elements in the distribution and defines the shape."
   ]
  },
  {
   "cell_type": "code",
   "execution_count": 71,
   "metadata": {},
   "outputs": [
    {
     "data": {
      "text/plain": [
       "<function matplotlib.pyplot.show(close=None, block=None)>"
      ]
     },
     "execution_count": 71,
     "metadata": {},
     "output_type": "execute_result"
    },
    {
     "data": {
      "image/png": "[encoded data removed]",
      "text/plain": [
       "<Figure size 360x360 with 1 Axes>"
      ]
     },
     "metadata": {
      "needs_background": "light"
     },
     "output_type": "display_data"
    }
   ],
   "source": [
    "import numpy as np\n",
    "import seaborn as sns\n",
    "import matplotlib.pyplot as plt\n",
    "from numpy import random\n",
    "\n",
    "sns.displot(random.normal(0, 4, 10))\n",
    "plt.show"
   ]
  },
  {
   "cell_type": "markdown",
   "metadata": {},
   "source": [
    "#### Uniform Distribution"
   ]
  },
  {
   "cell_type": "markdown",
   "metadata": {},
   "source": [
    "This distribution is used to describe probabilty where every event has an equal chance of occuring. It has three parameters      (numpy.random.uniform(low, high, size)) low - lower bound, high - higher bound and size - number of elements which defines the shape."
   ]
  },
  {
   "cell_type": "code",
   "execution_count": 73,
   "metadata": {},
   "outputs": [
    {
     "name": "stdout",
     "output_type": "stream",
     "text": [
      "[[1.69227288 3.58639052 3.69470328]\n",
      " [3.47951142 2.64480643 2.58730454]]\n"
     ]
    }
   ],
   "source": [
    "from numpy import random\n",
    "\n",
    "x = random.uniform(1, 4, size=(2, 3))\n",
    "\n",
    "print(x)"
   ]
  },
  {
   "cell_type": "markdown",
   "metadata": {},
   "source": [
    "#### Logistic"
   ]
  },
  {
   "cell_type": "markdown",
   "metadata": {},
   "source": [
    "The Logistic distribution is a continuous probability distribution used to describe growth. It is used extensively in machine learning in logical regression (for modelling categorical dependent variables, neural networks, hydrology for the long duration of river discharge and rainfall, chess ratings and Physics [6]. \n",
    "Logical distribution is similar to the Normal distribution the main difference is there is more possibility of occurence of an event away from the mean [7]. The example below shows that difference. The orange line of the distplot is the logistic distribution (label not working for some reason). It a flatter distribution with more values either side of the mean.                                                           \n",
    "x = np.random.logistic(loc, scale, size)"
   ]
  },
  {
   "cell_type": "code",
   "execution_count": 16,
   "metadata": {},
   "outputs": [
    {
     "name": "stderr",
     "output_type": "stream",
     "text": [
      "C:\\Users\\Noel\\anaconda3\\lib\\site-packages\\seaborn\\distributions.py:2551: FutureWarning: `distplot` is a deprecated function and will be removed in a future version. Please adapt your code to use either `displot` (a figure-level function with similar flexibility) or `kdeplot` (an axes-level function for kernel density plots).\n",
      "  warnings.warn(msg, FutureWarning)\n",
      "C:\\Users\\Noel\\anaconda3\\lib\\site-packages\\seaborn\\distributions.py:2551: FutureWarning: `distplot` is a deprecated function and will be removed in a future version. Please adapt your code to use either `displot` (a figure-level function with similar flexibility) or `kdeplot` (an axes-level function for kernel density plots).\n",
      "  warnings.warn(msg, FutureWarning)\n"
     ]
    },
    {
     "data": {
      "image/png": "[encoded data removed]",
      "text/plain": [
       "<Figure size 432x288 with 1 Axes>"
      ]
     },
     "metadata": {
      "needs_background": "light"
     },
     "output_type": "display_data"
    }
   ],
   "source": [
    "import numpy as np\n",
    "import seaborn as sns\n",
    "import matplotlib.pyplot as plt\n",
    "from numpy.random import default_rng\n",
    "\n",
    "sns.distplot(random.normal(loc=1, scale=2, size=1000), hist=False, label='normal')\n",
    "sns.distplot(random.logistic(loc=1, scale=2, size=1000), hist=False, label='logistic')\n",
    "plt.show()"
   ]
  },
  {
   "cell_type": "markdown",
   "metadata": {},
   "source": [
    "#### Exponential function"
   ]
  },
  {
   "cell_type": "markdown",
   "metadata": {},
   "source": [
    "Exponential function is used to describe time till the next event. It calculates e*x where e is a mathematical constant equal to 2.71828 (Euler's number) [8]. It has the following syntax np.exp(scale, size)."
   ]
  },
  {
   "cell_type": "code",
   "execution_count": 23,
   "metadata": {},
   "outputs": [
    {
     "data": {
      "text/plain": [
       "0.06754237827504292"
      ]
     },
     "execution_count": 23,
     "metadata": {},
     "output_type": "execute_result"
    }
   ],
   "source": [
    "import numpy as np\n",
    "x=np.random.exponential(2)\n",
    "x"
   ]
  },
  {
   "cell_type": "markdown",
   "metadata": {},
   "source": [
    "#### Lognormal function"
   ]
  },
  {
   "cell_type": "code",
   "execution_count": null,
   "metadata": {},
   "outputs": [],
   "source": []
  },
  {
   "cell_type": "markdown",
   "metadata": {},
   "source": [
    "### References \n",
    "\n",
    "[1] Numpy; Bit Generators; https://numpy.org/doc/stable/reference/random/bit_generators/index.html\n",
    "\n",
    "[2] Geeks for Geeks; numpy.random.rand() in Python, https://www.geeksforgeeks.org/numpy-random-rand-python/\n",
    "\n",
    "[3] w3schools.com; Python Random choice() method, https://www.w3schools.com/python/ref_random_choice.asp\n",
    "\n",
    "[4] WTMatter; NumPy Random Permutation (Python Tutorial), https://wtmatter.com/numpy-random-permutation/\n",
    "\n",
    "[5] Wikipedia; Normal Distribution; https://en.wikipedia.org/wiki/Normal_distribution\n",
    "\n",
    "[6] Wikipedia; Logistic distribution; https://en.wikipedia.org/wiki/Logistic_distribution\n",
    "\n",
    "[7] w3schools.com; Logistic Distribution; https://www.w3schools.com/python/numpy_random_logistic.asp\n",
    "\n",
    "[8] Sharp Sight; How to use Numpy exponential; https://www.sharpsightlabs.com/blog/numpy-exponential/"
   ]
  },
  {
   "cell_type": "code",
   "execution_count": null,
   "metadata": {},
   "outputs": [],
   "source": []
  }
 ],
 "metadata": {
  "kernelspec": {
   "display_name": "Python 3",
   "language": "python",
   "name": "python3"
  },
  "language_info": {
   "codemirror_mode": {
    "name": "ipython",
    "version": 3
   },
   "file_extension": ".py",
   "mimetype": "text/x-python",
   "name": "python",
   "nbconvert_exporter": "python",
   "pygments_lexer": "ipython3",
   "version": "3.8.5"
  }
 },
 "nbformat": 4,
 "nbformat_minor": 4
}
